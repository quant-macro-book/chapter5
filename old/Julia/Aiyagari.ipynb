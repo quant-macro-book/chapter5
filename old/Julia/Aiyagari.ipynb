{
 "cells": [
  {
   "cell_type": "code",
   "execution_count": 1,
   "metadata": {
    "ExecuteTime": {
     "end_time": "2019-09-25T22:01:59.972000+09:00",
     "start_time": "2019-09-25T13:01:51.170Z"
    }
   },
   "outputs": [
    {
     "data": {
      "text/plain": [
       "CRRA (generic function with 1 method)"
      ]
     },
     "execution_count": 1,
     "metadata": {},
     "output_type": "execute_result"
    }
   ],
   "source": [
    "using LinearAlgebra\n",
    "using Parameters\n",
    "using SpecialFunctions\n",
    "using Plots\n",
    "using LaTeXStrings\n",
    "include(\"tauchen.jl\")\n",
    "include(\"util.jl\")"
   ]
  },
  {
   "cell_type": "code",
   "execution_count": 2,
   "metadata": {
    "ExecuteTime": {
     "end_time": "2019-09-25T22:02:07.955000+09:00",
     "start_time": "2019-09-25T13:01:51.175Z"
    }
   },
   "outputs": [
    {
     "data": {
      "text/plain": [
       "params"
      ]
     },
     "execution_count": 2,
     "metadata": {},
     "output_type": "execute_result"
    }
   ],
   "source": [
    "@with_kw  struct params{TF<:Float64, TI<:Int64, TV<:AbstractVector{<:Real},\n",
    "                        TM<:AbstractMatrix{<:Real}}\n",
    "\n",
    "    # parameters\n",
    "    μ::TI = 3 # risk aversion (=3 baseline)\n",
    "    β::TF = 0.96 # subjective discount factor\n",
    "    δ::TF = 0.08 # depreciation\n",
    "    α::TF = 0.36 # capital share of income\n",
    "    b::TI = 3 # borrowing limit\n",
    "\n",
    "    # labor productivity\n",
    "    s::TV # labor productivity grid\n",
    "    prob::TM # transition matrix\n",
    "    labor::TF # aggregate labor supply\n",
    "\n",
    "    # iteration settings\n",
    "    maxiter::TI = 2000\n",
    "    tol::TF = 1e-5\n",
    "end"
   ]
  },
  {
   "cell_type": "code",
   "execution_count": 3,
   "metadata": {
    "ExecuteTime": {
     "end_time": "2019-09-25T22:02:07.991000+09:00",
     "start_time": "2019-09-25T13:01:51.178Z"
    }
   },
   "outputs": [],
   "source": [
    "mutable struct result{TF<:Float64, TM<:AbstractMatrix{<:Real}}\n",
    "    \n",
    "    \n",
    "    K::TF # equilibrium capital\n",
    "    eq_rate::TF\n",
    "    kfun::TM # policy function\n",
    "end"
   ]
  },
  {
   "cell_type": "code",
   "execution_count": 4,
   "metadata": {
    "ExecuteTime": {
     "end_time": "2019-09-25T22:02:08.375000+09:00",
     "start_time": "2019-09-25T13:01:51.182Z"
    },
    "code_folding": []
   },
   "outputs": [
    {
     "data": {
      "text/plain": [
       "main (generic function with 1 method)"
      ]
     },
     "execution_count": 4,
     "metadata": {},
     "output_type": "execute_result"
    }
   ],
   "source": [
    "function main(;Nl::Int = 7, ρ= 0.6, σ= 0.4, M::Int = 2, indE::Int =[1,2,3,4])\n",
    "\n",
    "    p = get_transition_matrix(Nl, ρ, σ, M)\n",
    "    @unpack α, β, δ, labor = p\n",
    "    \n",
    "    \n",
    "    if indE == 1 || indE== 2\n",
    "\n",
    "        #============================================\n",
    "         compute individual policy function and E(a)\n",
    "        ============================================#\n",
    "        \n",
    "        # create rental rate grid\n",
    "        NR = 20;\n",
    "        minR = -0.03;\n",
    "        maxR = (1.0-β)/β -0.001;\n",
    "        R =  collect(LinRange(minR, maxR, NR))\n",
    "        A = similar(R) #E(a)\n",
    "        \n",
    "        if indE == 1\n",
    "            \n",
    "            for (ind, R_val) in enumerate(R)\n",
    "                A[ind], kfun = aiyagari_vfi1(p,R_val)\n",
    "            end\n",
    "            \n",
    "        elseif indE == 2\n",
    "            \n",
    "            for (ind, R_val) in enumerate(R)\n",
    "                A[ind], kfun = aiyagari_vfi2(p,R_val)\n",
    "            end\n",
    "            \n",
    "        end\n",
    "        \n",
    "        R_K = collect(range(0, 0.05, step= 0.005))\n",
    "        K   = labor*(α./(R_K .+ δ)).^(1/(1-α))\n",
    "  \n",
    "    elseif indE == 3\n",
    "        #======================\n",
    "        Compute K and r in EQ\n",
    "        ======================#\n",
    "        rate0 = 0.02 # initial guess (start with a value less than eq value)\n",
    "        adj = 0.001\n",
    "        \n",
    "        ind = 0 \n",
    "        \n",
    "        for i in 1:p.maxiter\n",
    "            K0 = labor*(α/(rate0+ δ))^(1/(1-α))\n",
    "            K1, kfun = aiyagari_vfi2(p, rate0)\n",
    "            \n",
    "            if K0 < K1\n",
    "                ind = 1\n",
    "            end\n",
    "            \n",
    "            rate0 += adj\n",
    "            global res = result(K1, rate0, kfun)\n",
    "            if ind == 0\n",
    "                # interest rate and capital in equilibrium\n",
    "                eq_rate = rate0\n",
    "                eq_K = K0           \n",
    "                break\n",
    "            end\n",
    "        end\n",
    "    \n",
    "    elseif indE == 4\n",
    "        \n",
    "        #======================\n",
    "         compute K and r in eq\n",
    "        ======================#\n",
    "        \n",
    "        rate0 = 0.025\n",
    "        errtol = 0.001\n",
    "        maxiter = 200\n",
    "        adj = 0.001\n",
    "        \n",
    "        for iter in 1:maxiter\n",
    "            K0 = labor*(α/(rate0+δ))^(1/(1-α))\n",
    "            K1, kfun = aiyagari_vfi2(p, rate0)\n",
    "            \n",
    "            \n",
    "            err = abs(K1 - K0)\n",
    "            \n",
    "            rate0 += adj*(K0 - K1)\n",
    "            global res = result(K0, rate0, kfun)\n",
    "            if err < errtol\n",
    "                \n",
    "                # interest rate and capital in equilibrium\n",
    "                eq_rate = rate0\n",
    "                eq_K = K0\n",
    "                break\n",
    "            end\n",
    "        end\n",
    "        \n",
    "    else \n",
    "        throw(ArgumentError(\"indE can be only 1~4\"))\n",
    "    end\n",
    "    \n",
    "    \n",
    "    #==================================\n",
    "     Plot\n",
    "    ===================================#\n",
    "    \n",
    "    if indE == 1 || indE == 2\n",
    "        \n",
    "        plot(A, R, color = \"red\", linewidth = 2.0, linestyle = :dash, \n",
    "             shape = :star8, label=\"\")\n",
    "        plot!(K,R_K, color = \"blue\", linewidth = 2.0, label=\"\")\n",
    "        \n",
    "        title!(\"Aiyagari 1994\")\n",
    "        xlabel!(\"E(a) and K\")\n",
    "        ylabel!(\"Interest rate\")\n",
    "        xlims!((0, 10))\n",
    "        ylims!((-0.03, 0.05))\n",
    "        \n",
    "    elseif indE == 3 || indE == 4\n",
    "        \n",
    "        if res.eq_rate <= 0\n",
    "            ϕ = p.b\n",
    "        else\n",
    "            #  write wage as a function of interest rate\n",
    "            wage = (1-p.α)*((p.α/(res.eq_rate+p.δ))^p.α)^(1/(1-p.α))\n",
    "            ϕ = min(p.b, wage*p.s[1]/res.eq_rate)\n",
    "        end\n",
    "        \n",
    "       # capital grid (need define in each iteration since it depends on r/phi)\n",
    "        Nk   = 150 # grid size for state \n",
    "        maxK = 20 # maximum value of capital grid\n",
    "        minK = -ϕ # borrowing constraint\n",
    "        gridk= collect(LinRange(minK, maxK, Nk))       # state of assets\n",
    "\n",
    "        plot(gridk, res.kfun[1,:], color = \"blue\", linewidth = 2.0, \n",
    "             label= L\"l_{low}\", legend=:topleft)\n",
    "        plot!(gridk, res.kfun[4,:], color = \"red\", linewidth = 2.0,\n",
    "              linestyle = :dash, label=L\"l_{mid}\")\n",
    "        plot!(gridk, res.kfun[7,:], color = \"black\", linewidth = 2.0,\n",
    "              linestyle = :dashdot,  label= L\"l_{high}\")\n",
    "        \n",
    "        title!(\"Policy function\")\n",
    "        xlabel!(\"a\")\n",
    "        ylabel!(L\"a' = g(a, l)\")\n",
    "        xlims!((-3, 10))\n",
    "        ylims!((-3, 10))\n",
    "        \n",
    "    end\n",
    "    \n",
    "end"
   ]
  },
  {
   "cell_type": "code",
   "execution_count": 5,
   "metadata": {
    "ExecuteTime": {
     "end_time": "2019-09-25T22:02:08.477000+09:00",
     "start_time": "2019-09-25T13:01:51.186Z"
    },
    "code_folding": [
     0
    ]
   },
   "outputs": [
    {
     "data": {
      "text/plain": [
       "get_transition_matrix (generic function with 1 method)"
      ]
     },
     "execution_count": 5,
     "metadata": {},
     "output_type": "execute_result"
    }
   ],
   "source": [
    "function get_transition_matrix(Nl::Int, ρ, σ, M::Int; ind::Int=0)\n",
    "\n",
    "    logs, trans, invdist = tauchen(Nl, ρ, σ, M)\n",
    "    s = exp.(logs)\n",
    "    labor = dot(s, invdist)\n",
    "\n",
    "    #labor in the baseline (used only in only in experiments)\n",
    "    labor0 = 1.125709056856582\n",
    "\n",
    "    # adjust productivity grid s.t. labor remains unchanged(in experiments)\n",
    "    if ind==1\n",
    "       adj=labor0/labor;\n",
    "       s=s*adj;\n",
    "       labor = dot(s, invdist)\n",
    "    end\n",
    "\n",
    "    return p = params(s = s, prob = trans, labor = labor)\n",
    "end"
   ]
  },
  {
   "cell_type": "code",
   "execution_count": 6,
   "metadata": {
    "ExecuteTime": {
     "end_time": "2019-09-25T22:02:08.589000+09:00",
     "start_time": "2019-09-25T13:01:51.189Z"
    },
    "code_folding": []
   },
   "outputs": [
    {
     "data": {
      "text/plain": [
       "aiyagari_vfi1 (generic function with 1 method)"
      ]
     },
     "execution_count": 6,
     "metadata": {},
     "output_type": "execute_result"
    }
   ],
   "source": [
    "function aiyagari_vfi1(p::params, r)\n",
    "\n",
    "    # computes aggregate savings given aggregate interest rate r\n",
    "\n",
    "    #  write wage as a function of interest rate\n",
    "    wage = (1-p.α)*((p.α/(r+p.δ))^p.α)^(1/(1-p.α))\n",
    "\n",
    "    # borrowing limit\n",
    "    if r<=0\n",
    "        ϕ = p.b\n",
    "    else\n",
    "        # b is adhoc\n",
    "        # the second term is natural limit\n",
    "        ϕ = minimum([p.b, wage*p.s[1]/r])\n",
    "    end\n",
    "\n",
    "    # capital grid (need define in each iteration since it depends on r/phi)\n",
    "    Nk   = 100                      # grid size for state and control\n",
    "    maxK = 20                      # maximum value of capital grid\n",
    "    minK = -ϕ                     # borrowing constraint\n",
    "\n",
    "    gridk= collect(LinRange(minK, maxK, Nk))       # state of assets\n",
    "\n",
    "    #  initialize some variables\n",
    "    Nl = size(p.s)[1]\n",
    "    v      = zeros(Nl,Nk)\n",
    "    kfun   = similar(v)\n",
    "    kfunG  = zeros(Int64, Nl, Nk)\n",
    "    tv     = similar(v)\n",
    "    kfunG_old=similar(v)\n",
    "\n",
    "\n",
    "    for VFI_iter in 1:p.maxiter\n",
    "        \n",
    "        for (ind_l, val_l) in enumerate(p.s)\n",
    "            for (ind_current, val_current) in enumerate(gridk)\n",
    "                ind_future_max = Nk\n",
    "                vtemp=-1000000*ones(Nk)\n",
    "\n",
    "                for (ind_future, val_future) in enumerate(gridk)\n",
    "                    cons = val_l*wage + (1+r)*val_current - val_future\n",
    "\n",
    "                    if cons <= 0\n",
    "                        ind_future_max = ind_future - 1\n",
    "                        break\n",
    "                    end\n",
    "                    \n",
    "                    vpr=0\n",
    "                    for ind_l_future in 1:Nl\n",
    "                        vpr += p.prob[ind_l,ind_l_future]*v[ind_l_future, ind_future]\n",
    "                    end \n",
    "                    \n",
    "                    util = CRRA(cons, p.μ)\n",
    "                    vtemp[ind_future] = util + p.β * vpr\n",
    "                    \n",
    "                end\n",
    "\n",
    "                t1,t2 = findmax(vtemp[1:ind_future_max])\n",
    "                tv[ind_l,ind_current]   = t1\n",
    "                kfunG[ind_l,ind_current]= t2\n",
    "                kfun[ind_l,ind_current] = gridk[t2]\n",
    "            end\n",
    "        end\n",
    "\n",
    "\n",
    "        err=maximum(maximum(abs.(kfunG-kfunG_old)))\n",
    "        v=copy(tv)\n",
    "        kfunG_old= copy(kfunG)\n",
    "        \n",
    "        if err == 0\n",
    "            break\n",
    "        end\n",
    "    end\n",
    "\n",
    "    #============= \n",
    "     distribution\n",
    "    =============#\n",
    "    mea0=ones(Nl,Nk)/(Nl*Nk)\n",
    "    mea1=zeros(Nl,Nk)\n",
    "\n",
    "    for iter in 1:p.maxiter\n",
    "        \n",
    "        for ind_current in 1:Nk\n",
    "            for ind_l in 1:Nl\n",
    "                ind_future = kfunG[ind_l, ind_current]\n",
    "                \n",
    "                for ind_l_future in 1:Nl\n",
    "                    mea1[ind_l_future, ind_future] += p.prob[ind_l,ind_l_future]*mea0[ind_l,ind_current]\n",
    "                end\n",
    "            end\n",
    "        end\n",
    "        \n",
    "        err = maximum(maximum(abs.(mea1 - mea0)))\n",
    "        mea0 = copy(mea1)\n",
    "        mea1 = zeros(Nl, Nk)\n",
    "        \n",
    "        if err <= p.tol\n",
    "            break\n",
    "        end\n",
    "    end\n",
    "    \n",
    "    meank= sum(mea0.*kfun)\n",
    "        \n",
    "\n",
    "    return meank, kfun\n",
    "end"
   ]
  },
  {
   "cell_type": "code",
   "execution_count": 7,
   "metadata": {
    "ExecuteTime": {
     "end_time": "2019-09-25T22:02:08.705000+09:00",
     "start_time": "2019-09-25T13:01:51.192Z"
    },
    "code_folding": []
   },
   "outputs": [
    {
     "data": {
      "text/plain": [
       "aiyagari_vfi2 (generic function with 1 method)"
      ]
     },
     "execution_count": 7,
     "metadata": {},
     "output_type": "execute_result"
    }
   ],
   "source": [
    "function aiyagari_vfi2(p::params, r)\n",
    "\n",
    "    # computes aggregate savings given aggregate interest rate r\n",
    "\n",
    "    #  write wage as a function of interest rate\n",
    "    wage = (1-p.α)*((p.α/(r+p.δ))^p.α)^(1/(1-p.α))\n",
    "\n",
    "    # borrowing limit\n",
    "    if r<=0\n",
    "        ϕ = p.b\n",
    "    else\n",
    "        # b is adhoc\n",
    "        # the second term is natural limit\n",
    "        ϕ = minimum([p.b, wage*p.s[1]/r])\n",
    "    end\n",
    "\n",
    "    # capital grid (need define in each iteration since it depends on r/phi)\n",
    "    Nk     = 150                      # grid size for state \n",
    "    maxK   = 20                      # maximum value of capital grid\n",
    "    minK   = -ϕ                     # borrowing constraint\n",
    "    Nk2    = 500                    # grid size for control\n",
    "    \n",
    "    gridk  = collect(LinRange(minK, maxK, Nk))       # state of assets \n",
    "    gridk2 = collect(LinRange(minK, maxK, Nk2)) \n",
    "    intk = gridk[2] - gridk[1] \n",
    "    \n",
    "    #  initialize some variables\n",
    "    Nl = size(p.s)[1]\n",
    "    v      = zeros(Nl,Nk)\n",
    "    kfun   = similar(v)\n",
    "    kfunG  = zeros(Int64, Nl, Nk)\n",
    "    tv     = similar(v)\n",
    "    kfunG_old=similar(v)\n",
    "\n",
    "\n",
    "    for VFI_iter in 1:p.maxiter\n",
    "        \n",
    "        for (ind_l, val_l) in enumerate(p.s)\n",
    "            for (ind_current, val_current) in enumerate(gridk)\n",
    "                \n",
    "                ind_future_max = Nk2\n",
    "                vtemp=-1000000*ones(Nk2) # initialization\n",
    "\n",
    "                for (ind_future, val_future) in enumerate(gridk2) # control\n",
    "                    \n",
    "                    cons = val_l*wage + (1+r)*val_current - val_future\n",
    "\n",
    "                    if cons <= 0\n",
    "                        ind_future_max = ind_future - 1\n",
    "                        break\n",
    "                    end\n",
    " \n",
    "                    if ind_future == Nk2\n",
    "                        \n",
    "                        ind_future1 = Nk\n",
    "                        ind_future2 = Nk\n",
    "                        pr1 = 1\n",
    "                        pr2 = 0\n",
    "                    else\n",
    "                        temp = (ϕ + gridk2[ind_future])/intk\n",
    "                        ind_future1 = Int(floor(temp) + 1)\n",
    "                        ind_future2 = ind_future1 + 1\n",
    "                        pr2 = (gridk2[ind_future] - gridk[ind_future1])/intk\n",
    "                        pr1 = 1 - pr2\n",
    "                    end\n",
    "                    \n",
    "                    vpr=0\n",
    "                    for ind_l_future in 1:Nl\n",
    "                        vpr += p.prob[ind_l,ind_l_future]*(pr1*v[ind_l_future, ind_future1] + pr2*v[ind_l_future, ind_future2])\n",
    "                    end \n",
    "                    \n",
    "                    util = CRRA(cons, p.μ)\n",
    "                    vtemp[ind_future] = util + p.β * vpr\n",
    "                    \n",
    "                end\n",
    "\n",
    "                t1,t2 = findmax(vtemp[1:ind_future_max])\n",
    "                tv[ind_l,ind_current]   = t1\n",
    "                kfunG[ind_l,ind_current]= t2\n",
    "                kfun[ind_l,ind_current] = gridk2[t2]\n",
    "            end\n",
    "        end\n",
    "\n",
    "\n",
    "        err=maximum(maximum(abs.(kfunG-kfunG_old)))\n",
    "        v=copy(tv)\n",
    "        kfunG_old= copy(kfunG)\n",
    "        \n",
    "        if err == 0\n",
    "            break\n",
    "        end\n",
    "    end\n",
    "\n",
    "    #============= \n",
    "     distribution\n",
    "    =============#\n",
    "    mea0=ones(Nl,Nk)/(Nl*Nk)\n",
    "    mea1=zeros(Nl,Nk)\n",
    "\n",
    "    for iter in 1:p.maxiter\n",
    "        \n",
    "        for ind_current in 1:Nk\n",
    "            for ind_l in 1:Nl\n",
    "                \n",
    "                ind_future = kfunG[ind_l, ind_current]\n",
    "                \n",
    "                if ind_future == Nk2\n",
    "                    ind_future1 = Nk \n",
    "                    ind_future2 = Nk \n",
    "                    pr1 = 1\n",
    "                    pr2 = 0 \n",
    "                else \n",
    "                    temp = (ϕ + gridk2[ind_future])/intk\n",
    "                    ind_future1 = Int(floor(temp) + 1)\n",
    "                    ind_future2 = ind_future1 + 1\n",
    "                    pr2 = (gridk2[ind_future] - gridk[ind_future1])/intk\n",
    "                    pr1 = 1 - pr2\n",
    "                end\n",
    "                    \n",
    "                                \n",
    "                \n",
    "                for ind_l_future in 1:Nl\n",
    "                    mea1[ind_l_future, ind_future1] += p.prob[ind_l,ind_l_future]*pr1*mea0[ind_l,ind_current]\n",
    "                    mea1[ind_l_future, ind_future2] += p.prob[ind_l,ind_l_future]*pr2*mea0[ind_l,ind_current]\n",
    "                end\n",
    "            end\n",
    "        end\n",
    "        \n",
    "        err = maximum(maximum(abs.(mea1 - mea0)))\n",
    "        mea0 = copy(mea1)\n",
    "        mea1 = zeros(Nl, Nk)\n",
    "        \n",
    "        if err <= p.tol\n",
    "            break\n",
    "        end\n",
    "    end\n",
    "    \n",
    "    meank= sum(mea0.*kfun)\n",
    "        \n",
    "\n",
    "    return meank, kfun\n",
    "end"
   ]
  },
  {
   "cell_type": "code",
   "execution_count": 8,
   "metadata": {
    "ExecuteTime": {
     "end_time": "2019-09-25T22:04:03.824000+09:00",
     "start_time": "2019-09-25T13:01:51.198Z"
    }
   },
   "outputs": [
    {
     "data": {
      "image/svg+xml": "<?xml version=\"1.0\" encoding=\"utf-8\"?>\n<svg xmlns=\"http://www.w3.org/2000/svg\" xmlns:xlink=\"http://www.w3.org/1999/xlink\" width=\"600\" height=\"400\" viewBox=\"0 0 2400 1600\">\n<defs>\n  <clipPath id=\"clip4300\">\n    <rect x=\"0\" y=\"0\" width=\"2400\" height=\"1600\"/>\n  </clipPath>\n</defs>\n<polygon clip-path=\"url(#clip4300)\" points=\"\n0,1600 2400,1600 2400,0 0,0 \n  \" fill=\"#ffffff\" fill-rule=\"evenodd\" fill-opacity=\"1\"/>\n<defs>\n  <clipPath id=\"clip4301\">\n    <rect x=\"480\" y=\"0\" width=\"1681\" height=\"1600\"/>\n  </clipPath>\n</defs>\n<polygon clip-path=\"url(#clip4300)\" points=\"\n270.627,1425.62 2352.76,1425.62 2352.76,121.675 270.627,121.675 \n  \" fill=\"#ffffff\" fill-rule=\"evenodd\" fill-opacity=\"1\"/>\n<defs>\n  <clipPath id=\"clip4302\">\n    <rect x=\"270\" y=\"121\" width=\"2083\" height=\"1305\"/>\n  </clipPath>\n</defs>\n<polyline clip-path=\"url(#clip4302)\" style=\"stroke:#000000; stroke-width:2; stroke-opacity:0.1; fill:none\" points=\"\n  270.627,1425.62 270.627,121.675 \n  \"/>\n<polyline clip-path=\"url(#clip4302)\" style=\"stroke:#000000; stroke-width:2; stroke-opacity:0.1; fill:none\" points=\"\n  687.052,1425.62 687.052,121.675 \n  \"/>\n<polyline clip-path=\"url(#clip4302)\" style=\"stroke:#000000; stroke-width:2; stroke-opacity:0.1; fill:none\" points=\"\n  1103.48,1425.62 1103.48,121.675 \n  \"/>\n<polyline clip-path=\"url(#clip4302)\" style=\"stroke:#000000; stroke-width:2; stroke-opacity:0.1; fill:none\" points=\"\n  1519.9,1425.62 1519.9,121.675 \n  \"/>\n<polyline clip-path=\"url(#clip4302)\" style=\"stroke:#000000; stroke-width:2; stroke-opacity:0.1; fill:none\" points=\"\n  1936.33,1425.62 1936.33,121.675 \n  \"/>\n<polyline clip-path=\"url(#clip4302)\" style=\"stroke:#000000; stroke-width:2; stroke-opacity:0.1; fill:none\" points=\"\n  2352.76,1425.62 2352.76,121.675 \n  \"/>\n<polyline clip-path=\"url(#clip4302)\" style=\"stroke:#000000; stroke-width:2; stroke-opacity:0.1; fill:none\" points=\"\n  270.627,1262.63 2352.76,1262.63 \n  \"/>\n<polyline clip-path=\"url(#clip4302)\" style=\"stroke:#000000; stroke-width:2; stroke-opacity:0.1; fill:none\" points=\"\n  270.627,936.64 2352.76,936.64 \n  \"/>\n<polyline clip-path=\"url(#clip4302)\" style=\"stroke:#000000; stroke-width:2; stroke-opacity:0.1; fill:none\" points=\"\n  270.627,610.654 2352.76,610.654 \n  \"/>\n<polyline clip-path=\"url(#clip4302)\" style=\"stroke:#000000; stroke-width:2; stroke-opacity:0.1; fill:none\" points=\"\n  270.627,284.668 2352.76,284.668 \n  \"/>\n<polyline clip-path=\"url(#clip4300)\" style=\"stroke:#000000; stroke-width:4; stroke-opacity:1; fill:none\" points=\"\n  270.627,1425.62 2352.76,1425.62 \n  \"/>\n<polyline clip-path=\"url(#clip4300)\" style=\"stroke:#000000; stroke-width:4; stroke-opacity:1; fill:none\" points=\"\n  270.627,1425.62 270.627,121.675 \n  \"/>\n<polyline clip-path=\"url(#clip4300)\" style=\"stroke:#000000; stroke-width:4; stroke-opacity:1; fill:none\" points=\"\n  270.627,1425.62 270.627,1406.06 \n  \"/>\n<polyline clip-path=\"url(#clip4300)\" style=\"stroke:#000000; stroke-width:4; stroke-opacity:1; fill:none\" points=\"\n  687.052,1425.62 687.052,1406.06 \n  \"/>\n<polyline clip-path=\"url(#clip4300)\" style=\"stroke:#000000; stroke-width:4; stroke-opacity:1; fill:none\" points=\"\n  1103.48,1425.62 1103.48,1406.06 \n  \"/>\n<polyline clip-path=\"url(#clip4300)\" style=\"stroke:#000000; stroke-width:4; stroke-opacity:1; fill:none\" points=\"\n  1519.9,1425.62 1519.9,1406.06 \n  \"/>\n<polyline clip-path=\"url(#clip4300)\" style=\"stroke:#000000; stroke-width:4; stroke-opacity:1; fill:none\" points=\"\n  1936.33,1425.62 1936.33,1406.06 \n  \"/>\n<polyline clip-path=\"url(#clip4300)\" style=\"stroke:#000000; stroke-width:4; stroke-opacity:1; fill:none\" points=\"\n  2352.76,1425.62 2352.76,1406.06 \n  \"/>\n<polyline clip-path=\"url(#clip4300)\" style=\"stroke:#000000; stroke-width:4; stroke-opacity:1; fill:none\" points=\"\n  270.627,1262.63 301.858,1262.63 \n  \"/>\n<polyline clip-path=\"url(#clip4300)\" style=\"stroke:#000000; stroke-width:4; stroke-opacity:1; fill:none\" points=\"\n  270.627,936.64 301.858,936.64 \n  \"/>\n<polyline clip-path=\"url(#clip4300)\" style=\"stroke:#000000; stroke-width:4; stroke-opacity:1; fill:none\" points=\"\n  270.627,610.654 301.858,610.654 \n  \"/>\n<polyline clip-path=\"url(#clip4300)\" style=\"stroke:#000000; stroke-width:4; stroke-opacity:1; fill:none\" points=\"\n  270.627,284.668 301.858,284.668 \n  \"/>\n<g clip-path=\"url(#clip4300)\">\n<text style=\"fill:#000000; fill-opacity:1; font-family:Arial,Helvetica Neue,Helvetica,sans-serif; font-size:48px; text-anchor:middle;\" transform=\"rotate(0, 270.627, 1479.62)\" x=\"270.627\" y=\"1479.62\">0</text>\n</g>\n<g clip-path=\"url(#clip4300)\">\n<text style=\"fill:#000000; fill-opacity:1; font-family:Arial,Helvetica Neue,Helvetica,sans-serif; font-size:48px; text-anchor:middle;\" transform=\"rotate(0, 687.052, 1479.62)\" x=\"687.052\" y=\"1479.62\">2</text>\n</g>\n<g clip-path=\"url(#clip4300)\">\n<text style=\"fill:#000000; fill-opacity:1; font-family:Arial,Helvetica Neue,Helvetica,sans-serif; font-size:48px; text-anchor:middle;\" transform=\"rotate(0, 1103.48, 1479.62)\" x=\"1103.48\" y=\"1479.62\">4</text>\n</g>\n<g clip-path=\"url(#clip4300)\">\n<text style=\"fill:#000000; fill-opacity:1; font-family:Arial,Helvetica Neue,Helvetica,sans-serif; font-size:48px; text-anchor:middle;\" transform=\"rotate(0, 1519.9, 1479.62)\" x=\"1519.9\" y=\"1479.62\">6</text>\n</g>\n<g clip-path=\"url(#clip4300)\">\n<text style=\"fill:#000000; fill-opacity:1; font-family:Arial,Helvetica Neue,Helvetica,sans-serif; font-size:48px; text-anchor:middle;\" transform=\"rotate(0, 1936.33, 1479.62)\" x=\"1936.33\" y=\"1479.62\">8</text>\n</g>\n<g clip-path=\"url(#clip4300)\">\n<text style=\"fill:#000000; fill-opacity:1; font-family:Arial,Helvetica Neue,Helvetica,sans-serif; font-size:48px; text-anchor:middle;\" transform=\"rotate(0, 2352.76, 1479.62)\" x=\"2352.76\" y=\"1479.62\">10</text>\n</g>\n<g clip-path=\"url(#clip4300)\">\n<text style=\"fill:#000000; fill-opacity:1; font-family:Arial,Helvetica Neue,Helvetica,sans-serif; font-size:48px; text-anchor:end;\" transform=\"rotate(0, 246.627, 1280.13)\" x=\"246.627\" y=\"1280.13\">-0.02</text>\n</g>\n<g clip-path=\"url(#clip4300)\">\n<text style=\"fill:#000000; fill-opacity:1; font-family:Arial,Helvetica Neue,Helvetica,sans-serif; font-size:48px; text-anchor:end;\" transform=\"rotate(0, 246.627, 954.14)\" x=\"246.627\" y=\"954.14\">0.00</text>\n</g>\n<g clip-path=\"url(#clip4300)\">\n<text style=\"fill:#000000; fill-opacity:1; font-family:Arial,Helvetica Neue,Helvetica,sans-serif; font-size:48px; text-anchor:end;\" transform=\"rotate(0, 246.627, 628.154)\" x=\"246.627\" y=\"628.154\">0.02</text>\n</g>\n<g clip-path=\"url(#clip4300)\">\n<text style=\"fill:#000000; fill-opacity:1; font-family:Arial,Helvetica Neue,Helvetica,sans-serif; font-size:48px; text-anchor:end;\" transform=\"rotate(0, 246.627, 302.168)\" x=\"246.627\" y=\"302.168\">0.04</text>\n</g>\n<g clip-path=\"url(#clip4300)\">\n<text style=\"fill:#000000; fill-opacity:1; font-family:Arial,Helvetica Neue,Helvetica,sans-serif; font-size:84px; text-anchor:middle;\" transform=\"rotate(0, 1311.69, 73.2)\" x=\"1311.69\" y=\"73.2\">Aiyagari 1994</text>\n</g>\n<g clip-path=\"url(#clip4300)\">\n<text style=\"fill:#000000; fill-opacity:1; font-family:Arial,Helvetica Neue,Helvetica,sans-serif; font-size:66px; text-anchor:middle;\" transform=\"rotate(0, 1311.69, 1559.48)\" x=\"1311.69\" y=\"1559.48\">E(a) and K</text>\n</g>\n<g clip-path=\"url(#clip4300)\">\n<text style=\"fill:#000000; fill-opacity:1; font-family:Arial,Helvetica Neue,Helvetica,sans-serif; font-size:66px; text-anchor:middle;\" transform=\"rotate(-90, 89.2861, 773.647)\" x=\"89.2861\" y=\"773.647\">Interest rate</text>\n</g>\n<polyline clip-path=\"url(#clip4302)\" style=\"stroke:#ff0000; stroke-width:8; stroke-opacity:1; fill:none\" stroke-dasharray=\"32, 20\" points=\"\n  359.232,1425.62 375.799,1365 379.967,1304.37 393.756,1243.75 417.001,1183.13 437.497,1122.51 461.54,1061.89 499.118,1001.27 535.759,940.643 582.853,880.021 \n  646.727,819.399 720.898,758.777 811.675,698.155 922.774,637.533 1084.21,576.912 1299.8,516.29 1576.89,455.668 1878.52,395.046 2086.83,334.424 2454.06,273.802 \n  \n  \"/>\n<polygon clip-path=\"url(#clip4302)\" style=\"fill:#000000; fill-opacity:1\" points=\"\n  359.232,1445.62 356.172,1433.02 345.092,1439.76 351.832,1428.68 339.232,1425.62 351.832,1422.56 345.092,1411.48 356.172,1418.22 359.232,1405.62 362.292,1418.22 \n  373.372,1411.48 366.632,1422.56 379.232,1425.62 366.632,1428.68 373.372,1439.76 362.292,1433.02 359.232,1445.62 \n  \"/>\n<polygon clip-path=\"url(#clip4302)\" style=\"fill:#ff0000; fill-opacity:1\" points=\"\n  359.232,1441.62 356.784,1431.54 347.92,1436.93 353.312,1428.07 343.232,1425.62 353.312,1423.17 347.92,1414.31 356.784,1419.7 359.232,1409.62 361.68,1419.7 \n  370.544,1414.31 365.152,1423.17 375.232,1425.62 365.152,1428.07 370.544,1436.93 361.68,1431.54 359.232,1441.62 \n  \"/>\n<polygon clip-path=\"url(#clip4302)\" style=\"fill:#000000; fill-opacity:1\" points=\"\n  375.799,1385 372.739,1372.4 361.659,1379.14 368.399,1368.06 355.799,1365 368.399,1361.94 361.659,1350.86 372.739,1357.6 375.799,1345 378.859,1357.6 \n  389.939,1350.86 383.199,1361.94 395.799,1365 383.199,1368.06 389.939,1379.14 378.859,1372.4 375.799,1385 \n  \"/>\n<polygon clip-path=\"url(#clip4302)\" style=\"fill:#ff0000; fill-opacity:1\" points=\"\n  375.799,1381 373.351,1370.92 364.487,1376.31 369.879,1367.44 359.799,1365 369.879,1362.55 364.487,1353.68 373.351,1359.08 375.799,1349 378.247,1359.08 \n  387.111,1353.68 381.719,1362.55 391.799,1365 381.719,1367.44 387.111,1376.31 378.247,1370.92 375.799,1381 \n  \"/>\n<polygon clip-path=\"url(#clip4302)\" style=\"fill:#000000; fill-opacity:1\" points=\"\n  379.967,1324.37 376.907,1311.77 365.827,1318.51 372.567,1307.43 359.967,1304.37 372.567,1301.31 365.827,1290.23 376.907,1296.97 379.967,1284.37 383.027,1296.97 \n  394.107,1290.23 387.367,1301.31 399.967,1304.37 387.367,1307.43 394.107,1318.51 383.027,1311.77 379.967,1324.37 \n  \"/>\n<polygon clip-path=\"url(#clip4302)\" style=\"fill:#ff0000; fill-opacity:1\" points=\"\n  379.967,1320.37 377.519,1310.29 368.655,1315.69 374.047,1306.82 363.967,1304.37 374.047,1301.93 368.655,1293.06 377.519,1298.45 379.967,1288.37 382.415,1298.45 \n  391.279,1293.06 385.887,1301.93 395.967,1304.37 385.887,1306.82 391.279,1315.69 382.415,1310.29 379.967,1320.37 \n  \"/>\n<polygon clip-path=\"url(#clip4302)\" style=\"fill:#000000; fill-opacity:1\" points=\"\n  393.756,1263.75 390.696,1251.15 379.616,1257.89 386.356,1246.81 373.756,1243.75 386.356,1240.69 379.616,1229.61 390.696,1236.35 393.756,1223.75 396.816,1236.35 \n  407.896,1229.61 401.156,1240.69 413.756,1243.75 401.156,1246.81 407.896,1257.89 396.816,1251.15 393.756,1263.75 \n  \"/>\n<polygon clip-path=\"url(#clip4302)\" style=\"fill:#ff0000; fill-opacity:1\" points=\"\n  393.756,1259.75 391.308,1249.67 382.444,1255.06 387.836,1246.2 377.756,1243.75 387.836,1241.3 382.444,1232.44 391.308,1237.83 393.756,1227.75 396.204,1237.83 \n  405.068,1232.44 399.676,1241.3 409.756,1243.75 399.676,1246.2 405.068,1255.06 396.204,1249.67 393.756,1259.75 \n  \"/>\n<polygon clip-path=\"url(#clip4302)\" style=\"fill:#000000; fill-opacity:1\" points=\"\n  417.001,1203.13 413.941,1190.53 402.861,1197.27 409.601,1186.19 397.001,1183.13 409.601,1180.07 402.861,1168.99 413.941,1175.73 417.001,1163.13 420.061,1175.73 \n  431.141,1168.99 424.401,1180.07 437.001,1183.13 424.401,1186.19 431.141,1197.27 420.061,1190.53 417.001,1203.13 \n  \"/>\n<polygon clip-path=\"url(#clip4302)\" style=\"fill:#ff0000; fill-opacity:1\" points=\"\n  417.001,1199.13 414.553,1189.05 405.689,1194.44 411.081,1185.58 401.001,1183.13 411.081,1180.68 405.689,1171.82 414.553,1177.21 417.001,1167.13 419.449,1177.21 \n  428.313,1171.82 422.921,1180.68 433.001,1183.13 422.921,1185.58 428.313,1194.44 419.449,1189.05 417.001,1199.13 \n  \"/>\n<polygon clip-path=\"url(#clip4302)\" style=\"fill:#000000; fill-opacity:1\" points=\"\n  437.497,1142.51 434.437,1129.91 423.357,1136.65 430.097,1125.57 417.497,1122.51 430.097,1119.45 423.357,1108.37 434.437,1115.11 437.497,1102.51 440.557,1115.11 \n  451.637,1108.37 444.897,1119.45 457.497,1122.51 444.897,1125.57 451.637,1136.65 440.557,1129.91 437.497,1142.51 \n  \"/>\n<polygon clip-path=\"url(#clip4302)\" style=\"fill:#ff0000; fill-opacity:1\" points=\"\n  437.497,1138.51 435.049,1128.43 426.185,1133.82 431.577,1124.96 421.497,1122.51 431.577,1120.06 426.185,1111.2 435.049,1116.59 437.497,1106.51 439.945,1116.59 \n  448.809,1111.2 443.417,1120.06 453.497,1122.51 443.417,1124.96 448.809,1133.82 439.945,1128.43 437.497,1138.51 \n  \"/>\n<polygon clip-path=\"url(#clip4302)\" style=\"fill:#000000; fill-opacity:1\" points=\"\n  461.54,1081.89 458.48,1069.29 447.4,1076.03 454.14,1064.95 441.54,1061.89 454.14,1058.83 447.4,1047.75 458.48,1054.49 461.54,1041.89 464.6,1054.49 \n  475.68,1047.75 468.94,1058.83 481.54,1061.89 468.94,1064.95 475.68,1076.03 464.6,1069.29 461.54,1081.89 \n  \"/>\n<polygon clip-path=\"url(#clip4302)\" style=\"fill:#ff0000; fill-opacity:1\" points=\"\n  461.54,1077.89 459.092,1067.81 450.228,1073.2 455.62,1064.34 445.54,1061.89 455.62,1059.44 450.228,1050.58 459.092,1055.97 461.54,1045.89 463.988,1055.97 \n  472.852,1050.58 467.46,1059.44 477.54,1061.89 467.46,1064.34 472.852,1073.2 463.988,1067.81 461.54,1077.89 \n  \"/>\n<polygon clip-path=\"url(#clip4302)\" style=\"fill:#000000; fill-opacity:1\" points=\"\n  499.118,1021.27 496.058,1008.67 484.978,1015.41 491.718,1004.33 479.118,1001.27 491.718,998.205 484.978,987.125 496.058,993.865 499.118,981.265 502.178,993.865 \n  513.258,987.125 506.518,998.205 519.118,1001.27 506.518,1004.33 513.258,1015.41 502.178,1008.67 499.118,1021.27 \n  \"/>\n<polygon clip-path=\"url(#clip4302)\" style=\"fill:#ff0000; fill-opacity:1\" points=\"\n  499.118,1017.27 496.67,1007.19 487.806,1012.58 493.198,1003.71 483.118,1001.27 493.198,998.817 487.806,989.953 496.67,995.345 499.118,985.265 501.566,995.345 \n  510.43,989.953 505.038,998.817 515.118,1001.27 505.038,1003.71 510.43,1012.58 501.566,1007.19 499.118,1017.27 \n  \"/>\n<polygon clip-path=\"url(#clip4302)\" style=\"fill:#000000; fill-opacity:1\" points=\"\n  535.759,960.643 532.699,948.043 521.619,954.783 528.359,943.703 515.759,940.643 528.359,937.583 521.619,926.503 532.699,933.243 535.759,920.643 538.819,933.243 \n  549.899,926.503 543.159,937.583 555.759,940.643 543.159,943.703 549.899,954.783 538.819,948.043 535.759,960.643 \n  \"/>\n<polygon clip-path=\"url(#clip4302)\" style=\"fill:#ff0000; fill-opacity:1\" points=\"\n  535.759,956.643 533.311,946.563 524.447,951.955 529.839,943.091 519.759,940.643 529.839,938.195 524.447,929.331 533.311,934.723 535.759,924.643 538.207,934.723 \n  547.071,929.331 541.679,938.195 551.759,940.643 541.679,943.091 547.071,951.955 538.207,946.563 535.759,956.643 \n  \"/>\n<polygon clip-path=\"url(#clip4302)\" style=\"fill:#000000; fill-opacity:1\" points=\"\n  582.853,900.021 579.793,887.421 568.713,894.161 575.453,883.081 562.853,880.021 575.453,876.961 568.713,865.881 579.793,872.621 582.853,860.021 585.913,872.621 \n  596.993,865.881 590.253,876.961 602.853,880.021 590.253,883.081 596.993,894.161 585.913,887.421 582.853,900.021 \n  \"/>\n<polygon clip-path=\"url(#clip4302)\" style=\"fill:#ff0000; fill-opacity:1\" points=\"\n  582.853,896.021 580.405,885.941 571.541,891.333 576.933,882.469 566.853,880.021 576.933,877.573 571.541,868.709 580.405,874.101 582.853,864.021 585.301,874.101 \n  594.165,868.709 588.773,877.573 598.853,880.021 588.773,882.469 594.165,891.333 585.301,885.941 582.853,896.021 \n  \"/>\n<polygon clip-path=\"url(#clip4302)\" style=\"fill:#000000; fill-opacity:1\" points=\"\n  646.727,839.399 643.667,826.799 632.587,833.539 639.327,822.459 626.727,819.399 639.327,816.339 632.587,805.259 643.667,811.999 646.727,799.399 649.787,811.999 \n  660.867,805.259 654.127,816.339 666.727,819.399 654.127,822.459 660.867,833.539 649.787,826.799 646.727,839.399 \n  \"/>\n<polygon clip-path=\"url(#clip4302)\" style=\"fill:#ff0000; fill-opacity:1\" points=\"\n  646.727,835.399 644.279,825.319 635.415,830.711 640.807,821.847 630.727,819.399 640.807,816.951 635.415,808.087 644.279,813.479 646.727,803.399 649.175,813.479 \n  658.039,808.087 652.647,816.951 662.727,819.399 652.647,821.847 658.039,830.711 649.175,825.319 646.727,835.399 \n  \"/>\n<polygon clip-path=\"url(#clip4302)\" style=\"fill:#000000; fill-opacity:1\" points=\"\n  720.898,778.777 717.838,766.177 706.758,772.917 713.498,761.837 700.898,758.777 713.498,755.717 706.758,744.637 717.838,751.377 720.898,738.777 723.958,751.377 \n  735.038,744.637 728.298,755.717 740.898,758.777 728.298,761.837 735.038,772.917 723.958,766.177 720.898,778.777 \n  \"/>\n<polygon clip-path=\"url(#clip4302)\" style=\"fill:#ff0000; fill-opacity:1\" points=\"\n  720.898,774.777 718.45,764.697 709.586,770.089 714.978,761.225 704.898,758.777 714.978,756.329 709.586,747.465 718.45,752.857 720.898,742.777 723.346,752.857 \n  732.21,747.465 726.818,756.329 736.898,758.777 726.818,761.225 732.21,770.089 723.346,764.697 720.898,774.777 \n  \"/>\n<polygon clip-path=\"url(#clip4302)\" style=\"fill:#000000; fill-opacity:1\" points=\"\n  811.675,718.155 808.615,705.555 797.535,712.295 804.275,701.215 791.675,698.155 804.275,695.095 797.535,684.015 808.615,690.755 811.675,678.155 814.735,690.755 \n  825.815,684.015 819.075,695.095 831.675,698.155 819.075,701.215 825.815,712.295 814.735,705.555 811.675,718.155 \n  \"/>\n<polygon clip-path=\"url(#clip4302)\" style=\"fill:#ff0000; fill-opacity:1\" points=\"\n  811.675,714.155 809.227,704.075 800.363,709.467 805.755,700.603 795.675,698.155 805.755,695.707 800.363,686.843 809.227,692.235 811.675,682.155 814.123,692.235 \n  822.987,686.843 817.595,695.707 827.675,698.155 817.595,700.603 822.987,709.467 814.123,704.075 811.675,714.155 \n  \"/>\n<polygon clip-path=\"url(#clip4302)\" style=\"fill:#000000; fill-opacity:1\" points=\"\n  922.774,657.533 919.714,644.933 908.634,651.673 915.374,640.593 902.774,637.533 915.374,634.473 908.634,623.393 919.714,630.133 922.774,617.533 925.834,630.133 \n  936.914,623.393 930.174,634.473 942.774,637.533 930.174,640.593 936.914,651.673 925.834,644.933 922.774,657.533 \n  \"/>\n<polygon clip-path=\"url(#clip4302)\" style=\"fill:#ff0000; fill-opacity:1\" points=\"\n  922.774,653.533 920.326,643.453 911.462,648.845 916.854,639.981 906.774,637.533 916.854,635.085 911.462,626.221 920.326,631.613 922.774,621.533 925.222,631.613 \n  934.086,626.221 928.694,635.085 938.774,637.533 928.694,639.981 934.086,648.845 925.222,643.453 922.774,653.533 \n  \"/>\n<polygon clip-path=\"url(#clip4302)\" style=\"fill:#000000; fill-opacity:1\" points=\"\n  1084.21,596.912 1081.15,584.312 1070.07,591.052 1076.81,579.972 1064.21,576.912 1076.81,573.852 1070.07,562.772 1081.15,569.512 1084.21,556.912 1087.27,569.512 \n  1098.35,562.772 1091.61,573.852 1104.21,576.912 1091.61,579.972 1098.35,591.052 1087.27,584.312 1084.21,596.912 \n  \"/>\n<polygon clip-path=\"url(#clip4302)\" style=\"fill:#ff0000; fill-opacity:1\" points=\"\n  1084.21,592.912 1081.76,582.832 1072.9,588.224 1078.29,579.36 1068.21,576.912 1078.29,574.464 1072.9,565.6 1081.76,570.992 1084.21,560.912 1086.66,570.992 \n  1095.52,565.6 1090.13,574.464 1100.21,576.912 1090.13,579.36 1095.52,588.224 1086.66,582.832 1084.21,592.912 \n  \"/>\n<polygon clip-path=\"url(#clip4302)\" style=\"fill:#000000; fill-opacity:1\" points=\"\n  1299.8,536.29 1296.74,523.69 1285.66,530.43 1292.4,519.35 1279.8,516.29 1292.4,513.23 1285.66,502.15 1296.74,508.89 1299.8,496.29 1302.86,508.89 \n  1313.94,502.15 1307.2,513.23 1319.8,516.29 1307.2,519.35 1313.94,530.43 1302.86,523.69 1299.8,536.29 \n  \"/>\n<polygon clip-path=\"url(#clip4302)\" style=\"fill:#ff0000; fill-opacity:1\" points=\"\n  1299.8,532.29 1297.36,522.21 1288.49,527.602 1293.88,518.738 1283.8,516.29 1293.88,513.842 1288.49,504.978 1297.36,510.37 1299.8,500.29 1302.25,510.37 \n  1311.12,504.978 1305.72,513.842 1315.8,516.29 1305.72,518.738 1311.12,527.602 1302.25,522.21 1299.8,532.29 \n  \"/>\n<polygon clip-path=\"url(#clip4302)\" style=\"fill:#000000; fill-opacity:1\" points=\"\n  1576.89,475.668 1573.83,463.068 1562.75,469.808 1569.49,458.728 1556.89,455.668 1569.49,452.608 1562.75,441.528 1573.83,448.268 1576.89,435.668 1579.95,448.268 \n  1591.03,441.528 1584.29,452.608 1596.89,455.668 1584.29,458.728 1591.03,469.808 1579.95,463.068 1576.89,475.668 \n  \"/>\n<polygon clip-path=\"url(#clip4302)\" style=\"fill:#ff0000; fill-opacity:1\" points=\"\n  1576.89,471.668 1574.45,461.588 1565.58,466.98 1570.97,458.116 1560.89,455.668 1570.97,453.22 1565.58,444.356 1574.45,449.748 1576.89,439.668 1579.34,449.748 \n  1588.21,444.356 1582.81,453.22 1592.89,455.668 1582.81,458.116 1588.21,466.98 1579.34,461.588 1576.89,471.668 \n  \"/>\n<polygon clip-path=\"url(#clip4302)\" style=\"fill:#000000; fill-opacity:1\" points=\"\n  1878.52,415.046 1875.46,402.446 1864.38,409.186 1871.12,398.106 1858.52,395.046 1871.12,391.986 1864.38,380.906 1875.46,387.646 1878.52,375.046 1881.58,387.646 \n  1892.66,380.906 1885.92,391.986 1898.52,395.046 1885.92,398.106 1892.66,409.186 1881.58,402.446 1878.52,415.046 \n  \"/>\n<polygon clip-path=\"url(#clip4302)\" style=\"fill:#ff0000; fill-opacity:1\" points=\"\n  1878.52,411.046 1876.08,400.966 1867.21,406.358 1872.6,397.494 1862.52,395.046 1872.6,392.598 1867.21,383.734 1876.08,389.126 1878.52,379.046 1880.97,389.126 \n  1889.84,383.734 1884.44,392.598 1894.52,395.046 1884.44,397.494 1889.84,406.358 1880.97,400.966 1878.52,411.046 \n  \"/>\n<polygon clip-path=\"url(#clip4302)\" style=\"fill:#000000; fill-opacity:1\" points=\"\n  2086.83,354.424 2083.77,341.824 2072.69,348.564 2079.43,337.484 2066.83,334.424 2079.43,331.364 2072.69,320.284 2083.77,327.024 2086.83,314.424 2089.89,327.024 \n  2100.97,320.284 2094.23,331.364 2106.83,334.424 2094.23,337.484 2100.97,348.564 2089.89,341.824 2086.83,354.424 \n  \"/>\n<polygon clip-path=\"url(#clip4302)\" style=\"fill:#ff0000; fill-opacity:1\" points=\"\n  2086.83,350.424 2084.38,340.344 2075.52,345.736 2080.91,336.872 2070.83,334.424 2080.91,331.976 2075.52,323.112 2084.38,328.504 2086.83,318.424 2089.28,328.504 \n  2098.14,323.112 2092.75,331.976 2102.83,334.424 2092.75,336.872 2098.14,345.736 2089.28,340.344 2086.83,350.424 \n  \"/>\n<polyline clip-path=\"url(#clip4302)\" style=\"stroke:#0000ff; stroke-width:8; stroke-opacity:1; fill:none\" points=\"\n  2728.6,936.64 2506.46,855.143 2315.43,773.647 2149.78,692.15 2005.05,610.654 1877.74,529.157 1765.07,447.661 1664.8,366.165 1575.1,284.668 1494.49,203.172 \n  1421.74,121.675 \n  \"/>\n</svg>\n"
     },
     "execution_count": 8,
     "metadata": {},
     "output_type": "execute_result"
    }
   ],
   "source": [
    "main(indE = 1)"
   ]
  },
  {
   "cell_type": "code",
   "execution_count": 9,
   "metadata": {
    "ExecuteTime": {
     "end_time": "2019-09-25T22:04:55.175000+09:00",
     "start_time": "2019-09-25T13:01:51.202Z"
    }
   },
   "outputs": [
    {
     "data": {
      "image/svg+xml": "<?xml version=\"1.0\" encoding=\"utf-8\"?>\n<svg xmlns=\"http://www.w3.org/2000/svg\" xmlns:xlink=\"http://www.w3.org/1999/xlink\" width=\"600\" height=\"400\" viewBox=\"0 0 2400 1600\">\n<defs>\n  <clipPath id=\"clip4700\">\n    <rect x=\"0\" y=\"0\" width=\"2400\" height=\"1600\"/>\n  </clipPath>\n</defs>\n<polygon clip-path=\"url(#clip4700)\" points=\"\n0,1600 2400,1600 2400,0 0,0 \n  \" fill=\"#ffffff\" fill-rule=\"evenodd\" fill-opacity=\"1\"/>\n<defs>\n  <clipPath id=\"clip4701\">\n    <rect x=\"480\" y=\"0\" width=\"1681\" height=\"1600\"/>\n  </clipPath>\n</defs>\n<polygon clip-path=\"url(#clip4700)\" points=\"\n270.627,1425.62 2352.76,1425.62 2352.76,121.675 270.627,121.675 \n  \" fill=\"#ffffff\" fill-rule=\"evenodd\" fill-opacity=\"1\"/>\n<defs>\n  <clipPath id=\"clip4702\">\n    <rect x=\"270\" y=\"121\" width=\"2083\" height=\"1305\"/>\n  </clipPath>\n</defs>\n<polyline clip-path=\"url(#clip4702)\" style=\"stroke:#000000; stroke-width:2; stroke-opacity:0.1; fill:none\" points=\"\n  270.627,1425.62 270.627,121.675 \n  \"/>\n<polyline clip-path=\"url(#clip4702)\" style=\"stroke:#000000; stroke-width:2; stroke-opacity:0.1; fill:none\" points=\"\n  687.052,1425.62 687.052,121.675 \n  \"/>\n<polyline clip-path=\"url(#clip4702)\" style=\"stroke:#000000; stroke-width:2; stroke-opacity:0.1; fill:none\" points=\"\n  1103.48,1425.62 1103.48,121.675 \n  \"/>\n<polyline clip-path=\"url(#clip4702)\" style=\"stroke:#000000; stroke-width:2; stroke-opacity:0.1; fill:none\" points=\"\n  1519.9,1425.62 1519.9,121.675 \n  \"/>\n<polyline clip-path=\"url(#clip4702)\" style=\"stroke:#000000; stroke-width:2; stroke-opacity:0.1; fill:none\" points=\"\n  1936.33,1425.62 1936.33,121.675 \n  \"/>\n<polyline clip-path=\"url(#clip4702)\" style=\"stroke:#000000; stroke-width:2; stroke-opacity:0.1; fill:none\" points=\"\n  2352.76,1425.62 2352.76,121.675 \n  \"/>\n<polyline clip-path=\"url(#clip4702)\" style=\"stroke:#000000; stroke-width:2; stroke-opacity:0.1; fill:none\" points=\"\n  270.627,1262.63 2352.76,1262.63 \n  \"/>\n<polyline clip-path=\"url(#clip4702)\" style=\"stroke:#000000; stroke-width:2; stroke-opacity:0.1; fill:none\" points=\"\n  270.627,936.64 2352.76,936.64 \n  \"/>\n<polyline clip-path=\"url(#clip4702)\" style=\"stroke:#000000; stroke-width:2; stroke-opacity:0.1; fill:none\" points=\"\n  270.627,610.654 2352.76,610.654 \n  \"/>\n<polyline clip-path=\"url(#clip4702)\" style=\"stroke:#000000; stroke-width:2; stroke-opacity:0.1; fill:none\" points=\"\n  270.627,284.668 2352.76,284.668 \n  \"/>\n<polyline clip-path=\"url(#clip4700)\" style=\"stroke:#000000; stroke-width:4; stroke-opacity:1; fill:none\" points=\"\n  270.627,1425.62 2352.76,1425.62 \n  \"/>\n<polyline clip-path=\"url(#clip4700)\" style=\"stroke:#000000; stroke-width:4; stroke-opacity:1; fill:none\" points=\"\n  270.627,1425.62 270.627,121.675 \n  \"/>\n<polyline clip-path=\"url(#clip4700)\" style=\"stroke:#000000; stroke-width:4; stroke-opacity:1; fill:none\" points=\"\n  270.627,1425.62 270.627,1406.06 \n  \"/>\n<polyline clip-path=\"url(#clip4700)\" style=\"stroke:#000000; stroke-width:4; stroke-opacity:1; fill:none\" points=\"\n  687.052,1425.62 687.052,1406.06 \n  \"/>\n<polyline clip-path=\"url(#clip4700)\" style=\"stroke:#000000; stroke-width:4; stroke-opacity:1; fill:none\" points=\"\n  1103.48,1425.62 1103.48,1406.06 \n  \"/>\n<polyline clip-path=\"url(#clip4700)\" style=\"stroke:#000000; stroke-width:4; stroke-opacity:1; fill:none\" points=\"\n  1519.9,1425.62 1519.9,1406.06 \n  \"/>\n<polyline clip-path=\"url(#clip4700)\" style=\"stroke:#000000; stroke-width:4; stroke-opacity:1; fill:none\" points=\"\n  1936.33,1425.62 1936.33,1406.06 \n  \"/>\n<polyline clip-path=\"url(#clip4700)\" style=\"stroke:#000000; stroke-width:4; stroke-opacity:1; fill:none\" points=\"\n  2352.76,1425.62 2352.76,1406.06 \n  \"/>\n<polyline clip-path=\"url(#clip4700)\" style=\"stroke:#000000; stroke-width:4; stroke-opacity:1; fill:none\" points=\"\n  270.627,1262.63 301.858,1262.63 \n  \"/>\n<polyline clip-path=\"url(#clip4700)\" style=\"stroke:#000000; stroke-width:4; stroke-opacity:1; fill:none\" points=\"\n  270.627,936.64 301.858,936.64 \n  \"/>\n<polyline clip-path=\"url(#clip4700)\" style=\"stroke:#000000; stroke-width:4; stroke-opacity:1; fill:none\" points=\"\n  270.627,610.654 301.858,610.654 \n  \"/>\n<polyline clip-path=\"url(#clip4700)\" style=\"stroke:#000000; stroke-width:4; stroke-opacity:1; fill:none\" points=\"\n  270.627,284.668 301.858,284.668 \n  \"/>\n<g clip-path=\"url(#clip4700)\">\n<text style=\"fill:#000000; fill-opacity:1; font-family:Arial,Helvetica Neue,Helvetica,sans-serif; font-size:48px; text-anchor:middle;\" transform=\"rotate(0, 270.627, 1479.62)\" x=\"270.627\" y=\"1479.62\">0</text>\n</g>\n<g clip-path=\"url(#clip4700)\">\n<text style=\"fill:#000000; fill-opacity:1; font-family:Arial,Helvetica Neue,Helvetica,sans-serif; font-size:48px; text-anchor:middle;\" transform=\"rotate(0, 687.052, 1479.62)\" x=\"687.052\" y=\"1479.62\">2</text>\n</g>\n<g clip-path=\"url(#clip4700)\">\n<text style=\"fill:#000000; fill-opacity:1; font-family:Arial,Helvetica Neue,Helvetica,sans-serif; font-size:48px; text-anchor:middle;\" transform=\"rotate(0, 1103.48, 1479.62)\" x=\"1103.48\" y=\"1479.62\">4</text>\n</g>\n<g clip-path=\"url(#clip4700)\">\n<text style=\"fill:#000000; fill-opacity:1; font-family:Arial,Helvetica Neue,Helvetica,sans-serif; font-size:48px; text-anchor:middle;\" transform=\"rotate(0, 1519.9, 1479.62)\" x=\"1519.9\" y=\"1479.62\">6</text>\n</g>\n<g clip-path=\"url(#clip4700)\">\n<text style=\"fill:#000000; fill-opacity:1; font-family:Arial,Helvetica Neue,Helvetica,sans-serif; font-size:48px; text-anchor:middle;\" transform=\"rotate(0, 1936.33, 1479.62)\" x=\"1936.33\" y=\"1479.62\">8</text>\n</g>\n<g clip-path=\"url(#clip4700)\">\n<text style=\"fill:#000000; fill-opacity:1; font-family:Arial,Helvetica Neue,Helvetica,sans-serif; font-size:48px; text-anchor:middle;\" transform=\"rotate(0, 2352.76, 1479.62)\" x=\"2352.76\" y=\"1479.62\">10</text>\n</g>\n<g clip-path=\"url(#clip4700)\">\n<text style=\"fill:#000000; fill-opacity:1; font-family:Arial,Helvetica Neue,Helvetica,sans-serif; font-size:48px; text-anchor:end;\" transform=\"rotate(0, 246.627, 1280.13)\" x=\"246.627\" y=\"1280.13\">-0.02</text>\n</g>\n<g clip-path=\"url(#clip4700)\">\n<text style=\"fill:#000000; fill-opacity:1; font-family:Arial,Helvetica Neue,Helvetica,sans-serif; font-size:48px; text-anchor:end;\" transform=\"rotate(0, 246.627, 954.14)\" x=\"246.627\" y=\"954.14\">0.00</text>\n</g>\n<g clip-path=\"url(#clip4700)\">\n<text style=\"fill:#000000; fill-opacity:1; font-family:Arial,Helvetica Neue,Helvetica,sans-serif; font-size:48px; text-anchor:end;\" transform=\"rotate(0, 246.627, 628.154)\" x=\"246.627\" y=\"628.154\">0.02</text>\n</g>\n<g clip-path=\"url(#clip4700)\">\n<text style=\"fill:#000000; fill-opacity:1; font-family:Arial,Helvetica Neue,Helvetica,sans-serif; font-size:48px; text-anchor:end;\" transform=\"rotate(0, 246.627, 302.168)\" x=\"246.627\" y=\"302.168\">0.04</text>\n</g>\n<g clip-path=\"url(#clip4700)\">\n<text style=\"fill:#000000; fill-opacity:1; font-family:Arial,Helvetica Neue,Helvetica,sans-serif; font-size:84px; text-anchor:middle;\" transform=\"rotate(0, 1311.69, 73.2)\" x=\"1311.69\" y=\"73.2\">Aiyagari 1994</text>\n</g>\n<g clip-path=\"url(#clip4700)\">\n<text style=\"fill:#000000; fill-opacity:1; font-family:Arial,Helvetica Neue,Helvetica,sans-serif; font-size:66px; text-anchor:middle;\" transform=\"rotate(0, 1311.69, 1559.48)\" x=\"1311.69\" y=\"1559.48\">E(a) and K</text>\n</g>\n<g clip-path=\"url(#clip4700)\">\n<text style=\"fill:#000000; fill-opacity:1; font-family:Arial,Helvetica Neue,Helvetica,sans-serif; font-size:66px; text-anchor:middle;\" transform=\"rotate(-90, 89.2861, 773.647)\" x=\"89.2861\" y=\"773.647\">Interest rate</text>\n</g>\n<polyline clip-path=\"url(#clip4702)\" style=\"stroke:#ff0000; stroke-width:8; stroke-opacity:1; fill:none\" stroke-dasharray=\"32, 20\" points=\"\n  368.134,1425.62 373.252,1365 383.956,1304.37 396.143,1243.75 414.471,1183.13 437.408,1122.51 465.833,1061.89 497.943,1001.27 540.246,940.643 590.375,880.021 \n  653.25,819.399 730.61,758.777 830.202,698.155 959.212,637.533 1118.57,576.912 1331.58,516.29 1649.98,455.668 1936.27,395.046 2174.25,334.424 2643.96,273.802 \n  \n  \"/>\n<polygon clip-path=\"url(#clip4702)\" style=\"fill:#000000; fill-opacity:1\" points=\"\n  368.134,1445.62 365.074,1433.02 353.994,1439.76 360.734,1428.68 348.134,1425.62 360.734,1422.56 353.994,1411.48 365.074,1418.22 368.134,1405.62 371.194,1418.22 \n  382.274,1411.48 375.534,1422.56 388.134,1425.62 375.534,1428.68 382.274,1439.76 371.194,1433.02 368.134,1445.62 \n  \"/>\n<polygon clip-path=\"url(#clip4702)\" style=\"fill:#ff0000; fill-opacity:1\" points=\"\n  368.134,1441.62 365.686,1431.54 356.822,1436.93 362.214,1428.07 352.134,1425.62 362.214,1423.17 356.822,1414.31 365.686,1419.7 368.134,1409.62 370.582,1419.7 \n  379.446,1414.31 374.054,1423.17 384.134,1425.62 374.054,1428.07 379.446,1436.93 370.582,1431.54 368.134,1441.62 \n  \"/>\n<polygon clip-path=\"url(#clip4702)\" style=\"fill:#000000; fill-opacity:1\" points=\"\n  373.252,1385 370.192,1372.4 359.112,1379.14 365.852,1368.06 353.252,1365 365.852,1361.94 359.112,1350.86 370.192,1357.6 373.252,1345 376.312,1357.6 \n  387.392,1350.86 380.652,1361.94 393.252,1365 380.652,1368.06 387.392,1379.14 376.312,1372.4 373.252,1385 \n  \"/>\n<polygon clip-path=\"url(#clip4702)\" style=\"fill:#ff0000; fill-opacity:1\" points=\"\n  373.252,1381 370.804,1370.92 361.94,1376.31 367.332,1367.44 357.252,1365 367.332,1362.55 361.94,1353.68 370.804,1359.08 373.252,1349 375.7,1359.08 \n  384.564,1353.68 379.172,1362.55 389.252,1365 379.172,1367.44 384.564,1376.31 375.7,1370.92 373.252,1381 \n  \"/>\n<polygon clip-path=\"url(#clip4702)\" style=\"fill:#000000; fill-opacity:1\" points=\"\n  383.956,1324.37 380.896,1311.77 369.816,1318.51 376.556,1307.43 363.956,1304.37 376.556,1301.31 369.816,1290.23 380.896,1296.97 383.956,1284.37 387.016,1296.97 \n  398.096,1290.23 391.356,1301.31 403.956,1304.37 391.356,1307.43 398.096,1318.51 387.016,1311.77 383.956,1324.37 \n  \"/>\n<polygon clip-path=\"url(#clip4702)\" style=\"fill:#ff0000; fill-opacity:1\" points=\"\n  383.956,1320.37 381.508,1310.29 372.644,1315.69 378.036,1306.82 367.956,1304.37 378.036,1301.93 372.644,1293.06 381.508,1298.45 383.956,1288.37 386.404,1298.45 \n  395.268,1293.06 389.876,1301.93 399.956,1304.37 389.876,1306.82 395.268,1315.69 386.404,1310.29 383.956,1320.37 \n  \"/>\n<polygon clip-path=\"url(#clip4702)\" style=\"fill:#000000; fill-opacity:1\" points=\"\n  396.143,1263.75 393.083,1251.15 382.003,1257.89 388.743,1246.81 376.143,1243.75 388.743,1240.69 382.003,1229.61 393.083,1236.35 396.143,1223.75 399.203,1236.35 \n  410.283,1229.61 403.543,1240.69 416.143,1243.75 403.543,1246.81 410.283,1257.89 399.203,1251.15 396.143,1263.75 \n  \"/>\n<polygon clip-path=\"url(#clip4702)\" style=\"fill:#ff0000; fill-opacity:1\" points=\"\n  396.143,1259.75 393.695,1249.67 384.831,1255.06 390.223,1246.2 380.143,1243.75 390.223,1241.3 384.831,1232.44 393.695,1237.83 396.143,1227.75 398.591,1237.83 \n  407.455,1232.44 402.063,1241.3 412.143,1243.75 402.063,1246.2 407.455,1255.06 398.591,1249.67 396.143,1259.75 \n  \"/>\n<polygon clip-path=\"url(#clip4702)\" style=\"fill:#000000; fill-opacity:1\" points=\"\n  414.471,1203.13 411.411,1190.53 400.331,1197.27 407.071,1186.19 394.471,1183.13 407.071,1180.07 400.331,1168.99 411.411,1175.73 414.471,1163.13 417.531,1175.73 \n  428.611,1168.99 421.871,1180.07 434.471,1183.13 421.871,1186.19 428.611,1197.27 417.531,1190.53 414.471,1203.13 \n  \"/>\n<polygon clip-path=\"url(#clip4702)\" style=\"fill:#ff0000; fill-opacity:1\" points=\"\n  414.471,1199.13 412.023,1189.05 403.159,1194.44 408.551,1185.58 398.471,1183.13 408.551,1180.68 403.159,1171.82 412.023,1177.21 414.471,1167.13 416.919,1177.21 \n  425.783,1171.82 420.391,1180.68 430.471,1183.13 420.391,1185.58 425.783,1194.44 416.919,1189.05 414.471,1199.13 \n  \"/>\n<polygon clip-path=\"url(#clip4702)\" style=\"fill:#000000; fill-opacity:1\" points=\"\n  437.408,1142.51 434.348,1129.91 423.268,1136.65 430.008,1125.57 417.408,1122.51 430.008,1119.45 423.268,1108.37 434.348,1115.11 437.408,1102.51 440.468,1115.11 \n  451.548,1108.37 444.808,1119.45 457.408,1122.51 444.808,1125.57 451.548,1136.65 440.468,1129.91 437.408,1142.51 \n  \"/>\n<polygon clip-path=\"url(#clip4702)\" style=\"fill:#ff0000; fill-opacity:1\" points=\"\n  437.408,1138.51 434.96,1128.43 426.096,1133.82 431.488,1124.96 421.408,1122.51 431.488,1120.06 426.096,1111.2 434.96,1116.59 437.408,1106.51 439.856,1116.59 \n  448.72,1111.2 443.328,1120.06 453.408,1122.51 443.328,1124.96 448.72,1133.82 439.856,1128.43 437.408,1138.51 \n  \"/>\n<polygon clip-path=\"url(#clip4702)\" style=\"fill:#000000; fill-opacity:1\" points=\"\n  465.833,1081.89 462.773,1069.29 451.693,1076.03 458.433,1064.95 445.833,1061.89 458.433,1058.83 451.693,1047.75 462.773,1054.49 465.833,1041.89 468.893,1054.49 \n  479.973,1047.75 473.233,1058.83 485.833,1061.89 473.233,1064.95 479.973,1076.03 468.893,1069.29 465.833,1081.89 \n  \"/>\n<polygon clip-path=\"url(#clip4702)\" style=\"fill:#ff0000; fill-opacity:1\" points=\"\n  465.833,1077.89 463.385,1067.81 454.521,1073.2 459.913,1064.34 449.833,1061.89 459.913,1059.44 454.521,1050.58 463.385,1055.97 465.833,1045.89 468.281,1055.97 \n  477.145,1050.58 471.753,1059.44 481.833,1061.89 471.753,1064.34 477.145,1073.2 468.281,1067.81 465.833,1077.89 \n  \"/>\n<polygon clip-path=\"url(#clip4702)\" style=\"fill:#000000; fill-opacity:1\" points=\"\n  497.943,1021.27 494.883,1008.67 483.803,1015.41 490.543,1004.33 477.943,1001.27 490.543,998.205 483.803,987.125 494.883,993.865 497.943,981.265 501.003,993.865 \n  512.083,987.125 505.343,998.205 517.943,1001.27 505.343,1004.33 512.083,1015.41 501.003,1008.67 497.943,1021.27 \n  \"/>\n<polygon clip-path=\"url(#clip4702)\" style=\"fill:#ff0000; fill-opacity:1\" points=\"\n  497.943,1017.27 495.495,1007.19 486.631,1012.58 492.023,1003.71 481.943,1001.27 492.023,998.817 486.631,989.953 495.495,995.345 497.943,985.265 500.391,995.345 \n  509.255,989.953 503.863,998.817 513.943,1001.27 503.863,1003.71 509.255,1012.58 500.391,1007.19 497.943,1017.27 \n  \"/>\n<polygon clip-path=\"url(#clip4702)\" style=\"fill:#000000; fill-opacity:1\" points=\"\n  540.246,960.643 537.186,948.043 526.106,954.783 532.846,943.703 520.246,940.643 532.846,937.583 526.106,926.503 537.186,933.243 540.246,920.643 543.306,933.243 \n  554.386,926.503 547.646,937.583 560.246,940.643 547.646,943.703 554.386,954.783 543.306,948.043 540.246,960.643 \n  \"/>\n<polygon clip-path=\"url(#clip4702)\" style=\"fill:#ff0000; fill-opacity:1\" points=\"\n  540.246,956.643 537.798,946.563 528.934,951.955 534.326,943.091 524.246,940.643 534.326,938.195 528.934,929.331 537.798,934.723 540.246,924.643 542.694,934.723 \n  551.558,929.331 546.166,938.195 556.246,940.643 546.166,943.091 551.558,951.955 542.694,946.563 540.246,956.643 \n  \"/>\n<polygon clip-path=\"url(#clip4702)\" style=\"fill:#000000; fill-opacity:1\" points=\"\n  590.375,900.021 587.315,887.421 576.235,894.161 582.975,883.081 570.375,880.021 582.975,876.961 576.235,865.881 587.315,872.621 590.375,860.021 593.435,872.621 \n  604.515,865.881 597.775,876.961 610.375,880.021 597.775,883.081 604.515,894.161 593.435,887.421 590.375,900.021 \n  \"/>\n<polygon clip-path=\"url(#clip4702)\" style=\"fill:#ff0000; fill-opacity:1\" points=\"\n  590.375,896.021 587.927,885.941 579.063,891.333 584.455,882.469 574.375,880.021 584.455,877.573 579.063,868.709 587.927,874.101 590.375,864.021 592.823,874.101 \n  601.687,868.709 596.295,877.573 606.375,880.021 596.295,882.469 601.687,891.333 592.823,885.941 590.375,896.021 \n  \"/>\n<polygon clip-path=\"url(#clip4702)\" style=\"fill:#000000; fill-opacity:1\" points=\"\n  653.25,839.399 650.19,826.799 639.11,833.539 645.85,822.459 633.25,819.399 645.85,816.339 639.11,805.259 650.19,811.999 653.25,799.399 656.31,811.999 \n  667.39,805.259 660.65,816.339 673.25,819.399 660.65,822.459 667.39,833.539 656.31,826.799 653.25,839.399 \n  \"/>\n<polygon clip-path=\"url(#clip4702)\" style=\"fill:#ff0000; fill-opacity:1\" points=\"\n  653.25,835.399 650.802,825.319 641.938,830.711 647.33,821.847 637.25,819.399 647.33,816.951 641.938,808.087 650.802,813.479 653.25,803.399 655.698,813.479 \n  664.562,808.087 659.17,816.951 669.25,819.399 659.17,821.847 664.562,830.711 655.698,825.319 653.25,835.399 \n  \"/>\n<polygon clip-path=\"url(#clip4702)\" style=\"fill:#000000; fill-opacity:1\" points=\"\n  730.61,778.777 727.55,766.177 716.47,772.917 723.21,761.837 710.61,758.777 723.21,755.717 716.47,744.637 727.55,751.377 730.61,738.777 733.67,751.377 \n  744.75,744.637 738.01,755.717 750.61,758.777 738.01,761.837 744.75,772.917 733.67,766.177 730.61,778.777 \n  \"/>\n<polygon clip-path=\"url(#clip4702)\" style=\"fill:#ff0000; fill-opacity:1\" points=\"\n  730.61,774.777 728.162,764.697 719.298,770.089 724.69,761.225 714.61,758.777 724.69,756.329 719.298,747.465 728.162,752.857 730.61,742.777 733.058,752.857 \n  741.922,747.465 736.53,756.329 746.61,758.777 736.53,761.225 741.922,770.089 733.058,764.697 730.61,774.777 \n  \"/>\n<polygon clip-path=\"url(#clip4702)\" style=\"fill:#000000; fill-opacity:1\" points=\"\n  830.202,718.155 827.142,705.555 816.062,712.295 822.802,701.215 810.202,698.155 822.802,695.095 816.062,684.015 827.142,690.755 830.202,678.155 833.262,690.755 \n  844.342,684.015 837.602,695.095 850.202,698.155 837.602,701.215 844.342,712.295 833.262,705.555 830.202,718.155 \n  \"/>\n<polygon clip-path=\"url(#clip4702)\" style=\"fill:#ff0000; fill-opacity:1\" points=\"\n  830.202,714.155 827.754,704.075 818.89,709.467 824.282,700.603 814.202,698.155 824.282,695.707 818.89,686.843 827.754,692.235 830.202,682.155 832.65,692.235 \n  841.514,686.843 836.122,695.707 846.202,698.155 836.122,700.603 841.514,709.467 832.65,704.075 830.202,714.155 \n  \"/>\n<polygon clip-path=\"url(#clip4702)\" style=\"fill:#000000; fill-opacity:1\" points=\"\n  959.212,657.533 956.152,644.933 945.072,651.673 951.812,640.593 939.212,637.533 951.812,634.473 945.072,623.393 956.152,630.133 959.212,617.533 962.272,630.133 \n  973.352,623.393 966.612,634.473 979.212,637.533 966.612,640.593 973.352,651.673 962.272,644.933 959.212,657.533 \n  \"/>\n<polygon clip-path=\"url(#clip4702)\" style=\"fill:#ff0000; fill-opacity:1\" points=\"\n  959.212,653.533 956.764,643.453 947.9,648.845 953.292,639.981 943.212,637.533 953.292,635.085 947.9,626.221 956.764,631.613 959.212,621.533 961.66,631.613 \n  970.524,626.221 965.132,635.085 975.212,637.533 965.132,639.981 970.524,648.845 961.66,643.453 959.212,653.533 \n  \"/>\n<polygon clip-path=\"url(#clip4702)\" style=\"fill:#000000; fill-opacity:1\" points=\"\n  1118.57,596.912 1115.51,584.312 1104.43,591.052 1111.17,579.972 1098.57,576.912 1111.17,573.852 1104.43,562.772 1115.51,569.512 1118.57,556.912 1121.63,569.512 \n  1132.71,562.772 1125.97,573.852 1138.57,576.912 1125.97,579.972 1132.71,591.052 1121.63,584.312 1118.57,596.912 \n  \"/>\n<polygon clip-path=\"url(#clip4702)\" style=\"fill:#ff0000; fill-opacity:1\" points=\"\n  1118.57,592.912 1116.12,582.832 1107.26,588.224 1112.65,579.36 1102.57,576.912 1112.65,574.464 1107.26,565.6 1116.12,570.992 1118.57,560.912 1121.02,570.992 \n  1129.88,565.6 1124.49,574.464 1134.57,576.912 1124.49,579.36 1129.88,588.224 1121.02,582.832 1118.57,592.912 \n  \"/>\n<polygon clip-path=\"url(#clip4702)\" style=\"fill:#000000; fill-opacity:1\" points=\"\n  1331.58,536.29 1328.52,523.69 1317.44,530.43 1324.18,519.35 1311.58,516.29 1324.18,513.23 1317.44,502.15 1328.52,508.89 1331.58,496.29 1334.64,508.89 \n  1345.72,502.15 1338.98,513.23 1351.58,516.29 1338.98,519.35 1345.72,530.43 1334.64,523.69 1331.58,536.29 \n  \"/>\n<polygon clip-path=\"url(#clip4702)\" style=\"fill:#ff0000; fill-opacity:1\" points=\"\n  1331.58,532.29 1329.13,522.21 1320.27,527.602 1325.66,518.738 1315.58,516.29 1325.66,513.842 1320.27,504.978 1329.13,510.37 1331.58,500.29 1334.03,510.37 \n  1342.89,504.978 1337.5,513.842 1347.58,516.29 1337.5,518.738 1342.89,527.602 1334.03,522.21 1331.58,532.29 \n  \"/>\n<polygon clip-path=\"url(#clip4702)\" style=\"fill:#000000; fill-opacity:1\" points=\"\n  1649.98,475.668 1646.92,463.068 1635.84,469.808 1642.58,458.728 1629.98,455.668 1642.58,452.608 1635.84,441.528 1646.92,448.268 1649.98,435.668 1653.04,448.268 \n  1664.12,441.528 1657.38,452.608 1669.98,455.668 1657.38,458.728 1664.12,469.808 1653.04,463.068 1649.98,475.668 \n  \"/>\n<polygon clip-path=\"url(#clip4702)\" style=\"fill:#ff0000; fill-opacity:1\" points=\"\n  1649.98,471.668 1647.53,461.588 1638.67,466.98 1644.06,458.116 1633.98,455.668 1644.06,453.22 1638.67,444.356 1647.53,449.748 1649.98,439.668 1652.43,449.748 \n  1661.29,444.356 1655.9,453.22 1665.98,455.668 1655.9,458.116 1661.29,466.98 1652.43,461.588 1649.98,471.668 \n  \"/>\n<polygon clip-path=\"url(#clip4702)\" style=\"fill:#000000; fill-opacity:1\" points=\"\n  1936.27,415.046 1933.21,402.446 1922.13,409.186 1928.87,398.106 1916.27,395.046 1928.87,391.986 1922.13,380.906 1933.21,387.646 1936.27,375.046 1939.33,387.646 \n  1950.41,380.906 1943.67,391.986 1956.27,395.046 1943.67,398.106 1950.41,409.186 1939.33,402.446 1936.27,415.046 \n  \"/>\n<polygon clip-path=\"url(#clip4702)\" style=\"fill:#ff0000; fill-opacity:1\" points=\"\n  1936.27,411.046 1933.82,400.966 1924.96,406.358 1930.35,397.494 1920.27,395.046 1930.35,392.598 1924.96,383.734 1933.82,389.126 1936.27,379.046 1938.72,389.126 \n  1947.58,383.734 1942.19,392.598 1952.27,395.046 1942.19,397.494 1947.58,406.358 1938.72,400.966 1936.27,411.046 \n  \"/>\n<polygon clip-path=\"url(#clip4702)\" style=\"fill:#000000; fill-opacity:1\" points=\"\n  2174.25,354.424 2171.19,341.824 2160.11,348.564 2166.85,337.484 2154.25,334.424 2166.85,331.364 2160.11,320.284 2171.19,327.024 2174.25,314.424 2177.31,327.024 \n  2188.39,320.284 2181.65,331.364 2194.25,334.424 2181.65,337.484 2188.39,348.564 2177.31,341.824 2174.25,354.424 \n  \"/>\n<polygon clip-path=\"url(#clip4702)\" style=\"fill:#ff0000; fill-opacity:1\" points=\"\n  2174.25,350.424 2171.81,340.344 2162.94,345.736 2168.33,336.872 2158.25,334.424 2168.33,331.976 2162.94,323.112 2171.81,328.504 2174.25,318.424 2176.7,328.504 \n  2185.57,323.112 2180.17,331.976 2190.25,334.424 2180.17,336.872 2185.57,345.736 2176.7,340.344 2174.25,350.424 \n  \"/>\n<polyline clip-path=\"url(#clip4702)\" style=\"stroke:#0000ff; stroke-width:8; stroke-opacity:1; fill:none\" points=\"\n  2728.6,936.64 2506.46,855.143 2315.43,773.647 2149.78,692.15 2005.05,610.654 1877.74,529.157 1765.07,447.661 1664.8,366.165 1575.1,284.668 1494.49,203.172 \n  1421.74,121.675 \n  \"/>\n</svg>\n"
     },
     "execution_count": 9,
     "metadata": {},
     "output_type": "execute_result"
    }
   ],
   "source": [
    "main(indE = 2)"
   ]
  },
  {
   "cell_type": "code",
   "execution_count": 10,
   "metadata": {
    "ExecuteTime": {
     "end_time": "2019-09-25T22:05:13.081000+09:00",
     "start_time": "2019-09-25T13:01:51.206Z"
    }
   },
   "outputs": [
    {
     "data": {
      "image/svg+xml": "<?xml version=\"1.0\" encoding=\"utf-8\"?>\n<svg xmlns=\"http://www.w3.org/2000/svg\" xmlns:xlink=\"http://www.w3.org/1999/xlink\" width=\"600\" height=\"400\" viewBox=\"0 0 2400 1600\">\n<defs>\n  <clipPath id=\"clip5100\">\n    <rect x=\"0\" y=\"0\" width=\"2400\" height=\"1600\"/>\n  </clipPath>\n</defs>\n<polygon clip-path=\"url(#clip5100)\" points=\"\n0,1600 2400,1600 2400,0 0,0 \n  \" fill=\"#ffffff\" fill-rule=\"evenodd\" fill-opacity=\"1\"/>\n<defs>\n  <clipPath id=\"clip5101\">\n    <rect x=\"480\" y=\"0\" width=\"1681\" height=\"1600\"/>\n  </clipPath>\n</defs>\n<polygon clip-path=\"url(#clip5100)\" points=\"\n203.613,1425.62 2352.76,1425.62 2352.76,121.675 203.613,121.675 \n  \" fill=\"#ffffff\" fill-rule=\"evenodd\" fill-opacity=\"1\"/>\n<defs>\n  <clipPath id=\"clip5102\">\n    <rect x=\"203\" y=\"121\" width=\"2150\" height=\"1305\"/>\n  </clipPath>\n</defs>\n<polyline clip-path=\"url(#clip5102)\" style=\"stroke:#000000; stroke-width:2; stroke-opacity:0.1; fill:none\" points=\"\n  368.931,1425.62 368.931,121.675 \n  \"/>\n<polyline clip-path=\"url(#clip5102)\" style=\"stroke:#000000; stroke-width:2; stroke-opacity:0.1; fill:none\" points=\"\n  699.569,1425.62 699.569,121.675 \n  \"/>\n<polyline clip-path=\"url(#clip5102)\" style=\"stroke:#000000; stroke-width:2; stroke-opacity:0.1; fill:none\" points=\"\n  1030.21,1425.62 1030.21,121.675 \n  \"/>\n<polyline clip-path=\"url(#clip5102)\" style=\"stroke:#000000; stroke-width:2; stroke-opacity:0.1; fill:none\" points=\"\n  1360.84,1425.62 1360.84,121.675 \n  \"/>\n<polyline clip-path=\"url(#clip5102)\" style=\"stroke:#000000; stroke-width:2; stroke-opacity:0.1; fill:none\" points=\"\n  1691.48,1425.62 1691.48,121.675 \n  \"/>\n<polyline clip-path=\"url(#clip5102)\" style=\"stroke:#000000; stroke-width:2; stroke-opacity:0.1; fill:none\" points=\"\n  2022.12,1425.62 2022.12,121.675 \n  \"/>\n<polyline clip-path=\"url(#clip5102)\" style=\"stroke:#000000; stroke-width:2; stroke-opacity:0.1; fill:none\" points=\"\n  2352.76,1425.62 2352.76,121.675 \n  \"/>\n<polyline clip-path=\"url(#clip5102)\" style=\"stroke:#000000; stroke-width:2; stroke-opacity:0.1; fill:none\" points=\"\n  203.613,1325.32 2352.76,1325.32 \n  \"/>\n<polyline clip-path=\"url(#clip5102)\" style=\"stroke:#000000; stroke-width:2; stroke-opacity:0.1; fill:none\" points=\"\n  203.613,1124.71 2352.76,1124.71 \n  \"/>\n<polyline clip-path=\"url(#clip5102)\" style=\"stroke:#000000; stroke-width:2; stroke-opacity:0.1; fill:none\" points=\"\n  203.613,924.102 2352.76,924.102 \n  \"/>\n<polyline clip-path=\"url(#clip5102)\" style=\"stroke:#000000; stroke-width:2; stroke-opacity:0.1; fill:none\" points=\"\n  203.613,723.495 2352.76,723.495 \n  \"/>\n<polyline clip-path=\"url(#clip5102)\" style=\"stroke:#000000; stroke-width:2; stroke-opacity:0.1; fill:none\" points=\"\n  203.613,522.889 2352.76,522.889 \n  \"/>\n<polyline clip-path=\"url(#clip5102)\" style=\"stroke:#000000; stroke-width:2; stroke-opacity:0.1; fill:none\" points=\"\n  203.613,322.282 2352.76,322.282 \n  \"/>\n<polyline clip-path=\"url(#clip5102)\" style=\"stroke:#000000; stroke-width:2; stroke-opacity:0.1; fill:none\" points=\"\n  203.613,121.675 2352.76,121.675 \n  \"/>\n<polyline clip-path=\"url(#clip5100)\" style=\"stroke:#000000; stroke-width:4; stroke-opacity:1; fill:none\" points=\"\n  203.613,1425.62 2352.76,1425.62 \n  \"/>\n<polyline clip-path=\"url(#clip5100)\" style=\"stroke:#000000; stroke-width:4; stroke-opacity:1; fill:none\" points=\"\n  203.613,1425.62 203.613,121.675 \n  \"/>\n<polyline clip-path=\"url(#clip5100)\" style=\"stroke:#000000; stroke-width:4; stroke-opacity:1; fill:none\" points=\"\n  368.931,1425.62 368.931,1406.06 \n  \"/>\n<polyline clip-path=\"url(#clip5100)\" style=\"stroke:#000000; stroke-width:4; stroke-opacity:1; fill:none\" points=\"\n  699.569,1425.62 699.569,1406.06 \n  \"/>\n<polyline clip-path=\"url(#clip5100)\" style=\"stroke:#000000; stroke-width:4; stroke-opacity:1; fill:none\" points=\"\n  1030.21,1425.62 1030.21,1406.06 \n  \"/>\n<polyline clip-path=\"url(#clip5100)\" style=\"stroke:#000000; stroke-width:4; stroke-opacity:1; fill:none\" points=\"\n  1360.84,1425.62 1360.84,1406.06 \n  \"/>\n<polyline clip-path=\"url(#clip5100)\" style=\"stroke:#000000; stroke-width:4; stroke-opacity:1; fill:none\" points=\"\n  1691.48,1425.62 1691.48,1406.06 \n  \"/>\n<polyline clip-path=\"url(#clip5100)\" style=\"stroke:#000000; stroke-width:4; stroke-opacity:1; fill:none\" points=\"\n  2022.12,1425.62 2022.12,1406.06 \n  \"/>\n<polyline clip-path=\"url(#clip5100)\" style=\"stroke:#000000; stroke-width:4; stroke-opacity:1; fill:none\" points=\"\n  2352.76,1425.62 2352.76,1406.06 \n  \"/>\n<polyline clip-path=\"url(#clip5100)\" style=\"stroke:#000000; stroke-width:4; stroke-opacity:1; fill:none\" points=\"\n  203.613,1325.32 235.85,1325.32 \n  \"/>\n<polyline clip-path=\"url(#clip5100)\" style=\"stroke:#000000; stroke-width:4; stroke-opacity:1; fill:none\" points=\"\n  203.613,1124.71 235.85,1124.71 \n  \"/>\n<polyline clip-path=\"url(#clip5100)\" style=\"stroke:#000000; stroke-width:4; stroke-opacity:1; fill:none\" points=\"\n  203.613,924.102 235.85,924.102 \n  \"/>\n<polyline clip-path=\"url(#clip5100)\" style=\"stroke:#000000; stroke-width:4; stroke-opacity:1; fill:none\" points=\"\n  203.613,723.495 235.85,723.495 \n  \"/>\n<polyline clip-path=\"url(#clip5100)\" style=\"stroke:#000000; stroke-width:4; stroke-opacity:1; fill:none\" points=\"\n  203.613,522.889 235.85,522.889 \n  \"/>\n<polyline clip-path=\"url(#clip5100)\" style=\"stroke:#000000; stroke-width:4; stroke-opacity:1; fill:none\" points=\"\n  203.613,322.282 235.85,322.282 \n  \"/>\n<polyline clip-path=\"url(#clip5100)\" style=\"stroke:#000000; stroke-width:4; stroke-opacity:1; fill:none\" points=\"\n  203.613,121.675 235.85,121.675 \n  \"/>\n<g clip-path=\"url(#clip5100)\">\n<text style=\"fill:#000000; fill-opacity:1; font-family:Arial,Helvetica Neue,Helvetica,sans-serif; font-size:48px; text-anchor:middle;\" transform=\"rotate(0, 368.931, 1479.62)\" x=\"368.931\" y=\"1479.62\">-2</text>\n</g>\n<g clip-path=\"url(#clip5100)\">\n<text style=\"fill:#000000; fill-opacity:1; font-family:Arial,Helvetica Neue,Helvetica,sans-serif; font-size:48px; text-anchor:middle;\" transform=\"rotate(0, 699.569, 1479.62)\" x=\"699.569\" y=\"1479.62\">0</text>\n</g>\n<g clip-path=\"url(#clip5100)\">\n<text style=\"fill:#000000; fill-opacity:1; font-family:Arial,Helvetica Neue,Helvetica,sans-serif; font-size:48px; text-anchor:middle;\" transform=\"rotate(0, 1030.21, 1479.62)\" x=\"1030.21\" y=\"1479.62\">2</text>\n</g>\n<g clip-path=\"url(#clip5100)\">\n<text style=\"fill:#000000; fill-opacity:1; font-family:Arial,Helvetica Neue,Helvetica,sans-serif; font-size:48px; text-anchor:middle;\" transform=\"rotate(0, 1360.84, 1479.62)\" x=\"1360.84\" y=\"1479.62\">4</text>\n</g>\n<g clip-path=\"url(#clip5100)\">\n<text style=\"fill:#000000; fill-opacity:1; font-family:Arial,Helvetica Neue,Helvetica,sans-serif; font-size:48px; text-anchor:middle;\" transform=\"rotate(0, 1691.48, 1479.62)\" x=\"1691.48\" y=\"1479.62\">6</text>\n</g>\n<g clip-path=\"url(#clip5100)\">\n<text style=\"fill:#000000; fill-opacity:1; font-family:Arial,Helvetica Neue,Helvetica,sans-serif; font-size:48px; text-anchor:middle;\" transform=\"rotate(0, 2022.12, 1479.62)\" x=\"2022.12\" y=\"1479.62\">8</text>\n</g>\n<g clip-path=\"url(#clip5100)\">\n<text style=\"fill:#000000; fill-opacity:1; font-family:Arial,Helvetica Neue,Helvetica,sans-serif; font-size:48px; text-anchor:middle;\" transform=\"rotate(0, 2352.76, 1479.62)\" x=\"2352.76\" y=\"1479.62\">10</text>\n</g>\n<g clip-path=\"url(#clip5100)\">\n<text style=\"fill:#000000; fill-opacity:1; font-family:Arial,Helvetica Neue,Helvetica,sans-serif; font-size:48px; text-anchor:end;\" transform=\"rotate(0, 179.613, 1342.82)\" x=\"179.613\" y=\"1342.82\">-2</text>\n</g>\n<g clip-path=\"url(#clip5100)\">\n<text style=\"fill:#000000; fill-opacity:1; font-family:Arial,Helvetica Neue,Helvetica,sans-serif; font-size:48px; text-anchor:end;\" transform=\"rotate(0, 179.613, 1142.21)\" x=\"179.613\" y=\"1142.21\">0</text>\n</g>\n<g clip-path=\"url(#clip5100)\">\n<text style=\"fill:#000000; fill-opacity:1; font-family:Arial,Helvetica Neue,Helvetica,sans-serif; font-size:48px; text-anchor:end;\" transform=\"rotate(0, 179.613, 941.602)\" x=\"179.613\" y=\"941.602\">2</text>\n</g>\n<g clip-path=\"url(#clip5100)\">\n<text style=\"fill:#000000; fill-opacity:1; font-family:Arial,Helvetica Neue,Helvetica,sans-serif; font-size:48px; text-anchor:end;\" transform=\"rotate(0, 179.613, 740.995)\" x=\"179.613\" y=\"740.995\">4</text>\n</g>\n<g clip-path=\"url(#clip5100)\">\n<text style=\"fill:#000000; fill-opacity:1; font-family:Arial,Helvetica Neue,Helvetica,sans-serif; font-size:48px; text-anchor:end;\" transform=\"rotate(0, 179.613, 540.389)\" x=\"179.613\" y=\"540.389\">6</text>\n</g>\n<g clip-path=\"url(#clip5100)\">\n<text style=\"fill:#000000; fill-opacity:1; font-family:Arial,Helvetica Neue,Helvetica,sans-serif; font-size:48px; text-anchor:end;\" transform=\"rotate(0, 179.613, 339.782)\" x=\"179.613\" y=\"339.782\">8</text>\n</g>\n<g clip-path=\"url(#clip5100)\">\n<text style=\"fill:#000000; fill-opacity:1; font-family:Arial,Helvetica Neue,Helvetica,sans-serif; font-size:48px; text-anchor:end;\" transform=\"rotate(0, 179.613, 139.175)\" x=\"179.613\" y=\"139.175\">10</text>\n</g>\n<g clip-path=\"url(#clip5100)\">\n<text style=\"fill:#000000; fill-opacity:1; font-family:Arial,Helvetica Neue,Helvetica,sans-serif; font-size:84px; text-anchor:middle;\" transform=\"rotate(0, 1278.18, 73.2)\" x=\"1278.18\" y=\"73.2\">Policy function</text>\n</g>\n<g clip-path=\"url(#clip5100)\">\n<text style=\"fill:#000000; fill-opacity:1; font-family:Arial,Helvetica Neue,Helvetica,sans-serif; font-size:66px; text-anchor:middle;\" transform=\"rotate(0, 1278.18, 1559.48)\" x=\"1278.18\" y=\"1559.48\">a</text>\n</g>\n<g clip-path=\"url(#clip5100)\">\n<image width=\"69\" height=\"299\" xlink:href=\"data:image/png;base64,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\nxz3fQxhLWAAAAABJRU5ErkJggg==\n\" transform=\"translate(30, 624)\"/>\n</g>\n<polyline clip-path=\"url(#clip5102)\" style=\"stroke:#0000ff; stroke-width:8; stroke-opacity:1; fill:none\" points=\"\n  203.613,1425.62 229.132,1425.62 254.651,1416.37 280.17,1407.13 305.689,1397.88 331.208,1384.01 356.727,1374.76 382.246,1360.89 407.765,1347.02 433.284,1333.15 \n  458.803,1323.91 484.322,1310.04 509.841,1296.17 535.36,1282.3 560.879,1268.43 586.398,1254.56 611.917,1240.69 637.436,1226.82 662.955,1212.95 688.474,1199.08 \n  713.993,1185.21 739.512,1171.34 765.031,1157.47 790.55,1143.6 816.068,1129.73 841.587,1115.86 867.106,1101.99 892.625,1088.12 918.144,1069.63 943.663,1055.76 \n  969.182,1041.89 994.701,1028.02 1020.22,1014.15 1045.74,1000.28 1071.26,986.415 1096.78,967.922 1122.3,954.052 1147.82,940.183 1173.33,926.313 1198.85,912.443 \n  1224.37,898.574 1249.89,880.081 1275.41,866.211 1300.93,852.342 1326.45,838.472 1351.97,819.979 1377.49,806.11 1403.01,792.24 1428.52,778.371 1454.04,764.501 \n  1479.56,746.008 1505.08,732.139 1530.6,718.269 1556.12,704.399 1581.64,690.53 1607.16,672.037 1632.68,658.167 1658.2,644.298 1683.71,630.428 1709.23,611.935 \n  1734.75,598.066 1760.27,584.196 1785.79,570.327 1811.31,551.834 1836.83,537.964 1862.35,524.095 1887.87,510.225 1913.39,491.732 1938.9,477.863 1964.42,463.993 \n  1989.94,450.123 2015.46,431.631 2040.98,417.761 2066.5,403.891 2092.02,390.022 2117.54,371.529 2143.06,357.659 2168.58,343.79 2194.09,329.92 2219.61,311.427 \n  2245.13,297.558 2270.65,283.688 2296.17,269.819 2321.69,251.326 2347.21,237.456 2372.73,223.587 2398.25,205.094 2423.77,191.224 2449.28,177.355 2474.8,163.485 \n  2500.32,144.992 2525.84,131.123 2551.36,117.253 2576.88,103.383 2602.4,84.8905 2627.92,71.0209 2653.44,57.1513 2678.96,43.2817 2704.47,24.7889 2729.99,10.9193 \n  2755.51,-2.95026 2781.03,-21.4431 2806.55,-35.3127 2832.07,-49.1823 2857.59,-63.0519 2883.11,-81.5447 2908.63,-95.4143 2934.15,-109.284 2959.66,-127.777 2985.18,-141.646 \n  3010.7,-155.516 3036.22,-169.385 3061.74,-187.878 3087.26,-201.748 3112.78,-215.617 3138.3,-234.11 3163.82,-247.98 3189.34,-261.849 3214.85,-275.719 3240.37,-294.212 \n  3265.89,-308.081 3291.41,-321.951 3316.93,-340.444 3342.45,-354.313 3367.97,-368.183 3393.49,-382.053 3419.01,-400.545 3444.53,-414.415 3470.04,-428.285 3495.56,-446.777 \n  3521.08,-460.647 3546.6,-474.517 3572.12,-488.386 3597.64,-506.879 3623.16,-520.749 3648.68,-534.618 3674.2,-553.111 3699.72,-566.981 3725.23,-580.85 3750.75,-594.72 \n  3776.27,-613.213 3801.79,-627.082 3827.31,-640.952 3852.83,-659.445 3878.35,-673.314 3903.87,-687.184 3929.39,-701.054 3954.91,-719.546 3980.42,-733.416 4005.94,-747.286 \n  \n  \"/>\n<polyline clip-path=\"url(#clip5102)\" style=\"stroke:#ff0000; stroke-width:8; stroke-opacity:1; fill:none\" stroke-dasharray=\"32, 20\" points=\"\n  203.613,1397.88 229.132,1384.01 254.651,1374.76 280.17,1360.89 305.689,1347.02 331.208,1333.15 356.727,1319.29 382.246,1305.42 407.765,1291.55 433.284,1277.68 \n  458.803,1263.81 484.322,1249.94 509.841,1236.07 535.36,1222.2 560.879,1208.33 586.398,1194.46 611.917,1180.59 637.436,1162.1 662.955,1148.23 688.474,1134.36 \n  713.993,1120.49 739.512,1106.62 765.031,1092.75 790.55,1078.88 816.068,1065.01 841.587,1046.52 867.106,1032.65 892.625,1018.78 918.144,1004.91 943.663,991.038 \n  969.182,972.545 994.701,958.675 1020.22,944.806 1045.74,930.936 1071.26,917.067 1096.78,898.574 1122.3,884.704 1147.82,870.835 1173.33,856.965 1198.85,838.472 \n  1224.37,824.603 1249.89,810.733 1275.41,796.863 1300.93,782.994 1326.45,764.501 1351.97,750.631 1377.49,736.762 1403.01,722.892 1428.52,704.399 1454.04,690.53 \n  1479.56,676.66 1505.08,662.791 1530.6,648.921 1556.12,630.428 1581.64,616.559 1607.16,602.689 1632.68,588.819 1658.2,570.327 1683.71,556.457 1709.23,542.587 \n  1734.75,528.718 1760.27,510.225 1785.79,496.355 1811.31,482.486 1836.83,463.993 1862.35,450.123 1887.87,436.254 1913.39,422.384 1938.9,403.891 1964.42,390.022 \n  1989.94,376.152 2015.46,362.283 2040.98,343.79 2066.5,329.92 2092.02,316.051 2117.54,302.181 2143.06,283.688 2168.58,269.819 2194.09,255.949 2219.61,237.456 \n  2245.13,223.587 2270.65,209.717 2296.17,195.847 2321.69,177.355 2347.21,163.485 2372.73,149.615 2398.25,135.746 2423.77,117.253 2449.28,103.383 2474.8,89.5137 \n  2500.32,71.0209 2525.84,57.1513 2551.36,43.2817 2576.88,29.4121 2602.4,10.9193 2627.92,-2.95026 2653.44,-16.8199 2678.96,-35.3127 2704.47,-49.1823 2729.99,-63.0519 \n  2755.51,-76.9215 2781.03,-95.4143 2806.55,-109.284 2832.07,-123.153 2857.59,-141.646 2883.11,-155.516 2908.63,-169.385 2934.15,-183.255 2959.66,-201.748 2985.18,-215.617 \n  3010.7,-229.487 3036.22,-247.98 3061.74,-261.849 3087.26,-275.719 3112.78,-289.589 3138.3,-308.081 3163.82,-321.951 3189.34,-335.821 3214.85,-354.313 3240.37,-368.183 \n  3265.89,-382.053 3291.41,-395.922 3316.93,-414.415 3342.45,-428.285 3367.97,-442.154 3393.49,-456.024 3419.01,-474.517 3444.53,-488.386 3470.04,-502.256 3495.56,-520.749 \n  3521.08,-534.618 3546.6,-548.488 3572.12,-562.357 3597.64,-580.85 3623.16,-594.72 3648.68,-608.589 3674.2,-622.459 3699.72,-640.952 3725.23,-654.822 3750.75,-668.691 \n  3776.27,-682.561 3801.79,-701.054 3827.31,-714.923 3852.83,-728.793 3878.35,-742.662 3903.87,-761.155 3929.39,-775.025 3954.91,-788.894 3980.42,-802.764 4005.94,-821.257 \n  \n  \"/>\n<polyline clip-path=\"url(#clip5102)\" style=\"stroke:#000000; stroke-width:8; stroke-opacity:1; fill:none\" stroke-dasharray=\"32, 16, 4, 16\" points=\"\n  203.613,1217.57 229.132,1203.71 254.651,1189.84 280.17,1171.34 305.689,1157.47 331.208,1143.6 356.727,1129.73 382.246,1115.86 407.765,1097.37 433.284,1083.5 \n  458.803,1069.63 484.322,1055.76 509.841,1041.89 535.36,1023.4 560.879,1009.53 586.398,995.661 611.917,981.791 637.436,967.922 662.955,949.429 688.474,935.559 \n  713.993,921.69 739.512,907.82 765.031,889.327 790.55,875.458 816.068,861.588 841.587,847.719 867.106,829.226 892.625,815.356 918.144,801.487 943.663,787.617 \n  969.182,769.124 994.701,755.255 1020.22,741.385 1045.74,727.515 1071.26,709.023 1096.78,695.153 1122.3,681.283 1147.82,667.414 1173.33,648.921 1198.85,635.051 \n  1224.37,621.182 1249.89,607.312 1275.41,588.819 1300.93,574.95 1326.45,561.08 1351.97,547.211 1377.49,528.718 1403.01,514.848 1428.52,500.979 1454.04,482.486 \n  1479.56,468.616 1505.08,454.747 1530.6,440.877 1556.12,422.384 1581.64,408.515 1607.16,394.645 1632.68,380.775 1658.2,362.283 1683.71,348.413 1709.23,334.543 \n  1734.75,316.051 1760.27,302.181 1785.79,288.311 1811.31,274.442 1836.83,255.949 1862.35,242.079 1887.87,228.21 1913.39,214.34 1938.9,195.847 1964.42,181.978 \n  1989.94,168.108 2015.46,149.615 2040.98,135.746 2066.5,121.876 2092.02,108.007 2117.54,89.5137 2143.06,75.6441 2168.58,61.7745 2194.09,43.2817 2219.61,29.4121 \n  2245.13,15.5425 2270.65,1.67294 2296.17,-16.8199 2321.69,-30.6895 2347.21,-44.5591 2372.73,-63.0519 2398.25,-76.9215 2423.77,-90.7911 2449.28,-104.661 2474.8,-123.153 \n  2500.32,-137.023 2525.84,-150.893 2551.36,-169.385 2576.88,-183.255 2602.4,-197.125 2627.92,-210.994 2653.44,-229.487 2678.96,-243.357 2704.47,-257.226 2729.99,-271.096 \n  2755.51,-289.589 2781.03,-303.458 2806.55,-317.328 2832.07,-335.821 2857.59,-349.69 2883.11,-363.56 2908.63,-377.429 2934.15,-395.922 2959.66,-409.792 2985.18,-423.661 \n  3010.7,-437.531 3036.22,-456.024 3061.74,-469.893 3087.26,-483.763 3112.78,-497.633 3138.3,-516.125 3163.82,-529.995 3189.34,-543.865 3214.85,-557.734 3240.37,-576.227 \n  3265.89,-590.097 3291.41,-603.966 3316.93,-617.836 3342.45,-631.705 3367.97,-650.198 3393.49,-664.068 3419.01,-677.938 3444.53,-691.807 3470.04,-705.677 3495.56,-719.546 \n  3521.08,-733.416 3546.6,-747.286 3572.12,-761.155 3597.64,-775.025 3623.16,-788.894 3648.68,-802.764 3674.2,-816.634 3699.72,-825.88 3725.23,-839.75 3750.75,-853.619 \n  3776.27,-862.866 3801.79,-872.112 3827.31,-881.358 3852.83,-881.358 3878.35,-881.358 3903.87,-881.358 3929.39,-881.358 3954.91,-881.358 3980.42,-881.358 4005.94,-881.358 \n  \n  \"/>\n<polygon clip-path=\"url(#clip5100)\" points=\"\n275.613,447.115 603.613,447.115 603.613,205.195 275.613,205.195 \n  \" fill=\"#ffffff\" fill-rule=\"evenodd\" fill-opacity=\"1\"/>\n<polyline clip-path=\"url(#clip5100)\" style=\"stroke:#000000; stroke-width:4; stroke-opacity:1; fill:none\" points=\"\n  275.613,447.115 603.613,447.115 603.613,205.195 275.613,205.195 275.613,447.115 \n  \"/>\n<polyline clip-path=\"url(#clip5100)\" style=\"stroke:#0000ff; stroke-width:8; stroke-opacity:1; fill:none\" points=\"\n  299.613,265.675 443.613,265.675 \n  \"/>\n<g clip-path=\"url(#clip5100)\">\n<image width=\"69\" height=\"40\" xlink:href=\"data:image/png;base64,\niVBORw0KGgoAAAANSUhEUgAAAEUAAAAoCAYAAACo5zetAAAD1klEQVRoge1a7XHjIBB9zlwBxCWg\nDkhKIB1Qg9IBkxJUgtKCStCkBNkVEJWA08Hej7sl2AIk60fuHIUZZvwBLDzevt2VvSMixO10OpH3\nHh8fHxjHEd57AMDz8/MOG2m7GJSqqmgcx+RAItoMKL/iN9ZajOOI4/GIt7e38LlS6ss39k8bESW7\nMYYAEACy1lJu3HfsdzmwjsdjeK21/oLr+X/amaZwO51OtN/vw/st6QmANFM2rSdYAMrWXAf4ASXZ\nJpqydT0BEkzZup4AM6Bs0XWAH1CS7UxTLvXEe4/7+/tta8qlnmwREKAAylZdByiA8vj4+OWb+W8a\nV4be+1AVAyDv/aLK2FpLWmuSUpIQggBQ3/c3XVUHpsQskVIu1pP9fg8pJfhpHc+/6cbo1HUdWFLX\n9dU3rbUmACSEuGmWENEnKFLKAErXdVcfjOcaY24elDvgT34SP5u9NvIcDoeQ7HyHqHUHrNcTbt8t\nlE9AWXMoni+EQFVVt5/w/ehJ4jxr8xPuwzCEuW3bXg1K27aktQ45jpSSjDE0DMPsWm3bEl+oUqo4\nZxgGEkIkI6tzjqSUpJQi7z2h67pwKCnlZEJd1+ScyxprmibML4277F3XkRCChBDUNE24DOcccXgv\n/bRirSWlFDnnKL7Y3KXymqkzxj/nNE1Tzk/YWIk9JWO5zjallNm1lVJZ9nVdN7E3x1ZmYoopbdtS\nLAHBeEpPUsYvew7QOUCEEEWw441efielPCslYhdOlRhLXJzZYq39RBDAxCeNMUUKx8aWCHTsqnPj\n+75Pju37fpI1W2uzABItc3HnXLB1xpT45th1lurJEoGOxfQaAOPbdc5N2MDr5qIfs2CuBGFi3MV5\nCf/tAgBeXl6glCrmHZyfLEn4Xl9fiQtGY0xpKAAg9++Hqqp2T09PwdbhcAjr1nVd3GcpB3t/fycA\neHh42AUfxV9d8N4TM2AuLOIKPWFBXrJufLtz42ONKrkFZlIGTg2IooLQWrs45tMKPYkTxLmxMeBz\nlJ9zndgNS2dSSgXQZjeX6zk96fs+qS+8+SWPFuKDlIQ+ZkHTNMlxsQjndO8y9VgNSi4/QUacebxS\nahYUFv85QZ4LxUTLRLZpmjMJWA1KiralvCZm1lIGzmXIMVNyoLDb5vblvSchxJmt1aCwsZjexpii\nmPGcnAZxwiaEWCTGuX3El8Sg5dxHaz2ZuxoUPgC7AxdnczfLD7hj8IZhIKa5MeaqojSXrXJt5ZwL\na8cBZBgGUkolBXo1KDEQAEhrvbggbJpmUhnXdb2YHSmw4+gphJjsp+u6M5ta6yyrfwM6BEhkpLIs\n8wAAAABJRU5ErkJggg==\n\" transform=\"translate(468, 246)\"/>\n</g>\n<polyline clip-path=\"url(#clip5100)\" style=\"stroke:#ff0000; stroke-width:8; stroke-opacity:1; fill:none\" stroke-dasharray=\"32, 20\" points=\"\n  299.613,326.155 443.613,326.155 \n  \"/>\n<g clip-path=\"url(#clip5100)\">\n<image width=\"77\" height=\"40\" xlink:href=\"data:image/png;base64,\niVBORw0KGgoAAAANSUhEUgAAAE0AAAAoCAYAAAC7MHdZAAAEMElEQVRoge1a4W3zOAxlDzeA2hHU\nDdSOoBE0g7qBZ/AI6gpGJzAygpoJDI/AZAN+fz6qtC3JbtIWl54JCEgcWaIeH58oO3dEBNJOpxMh\nIpzPZxjHERARAABeXl7uYDcAALiToD0+PtI4jtmORLSD9tf+lV+apoFxHOF4PMLhcEjXjTE/7th/\n2ogo25xzBAAEANQ0DZX6/R/bPyUwj8dj+myt/YHw3Y5NNI3tdDrRw8ND+r7r2dSyTNv1rG6roO2p\nubQdtAtsoWm7nq3bgmm7nq1bFbQ9NfO2g3aBTTRtrmeICPf397umzWzCtLme7YDlrQjanpplK4L2\n/Pz8487cjPHJHRHTUw0AIES82Scb1lpSSlHf91etIcZI1loyxpDWmpRSZIyhxDTJMq31zerZ6+sr\nHQ4HOJ/P8Pb2dtVYSikwxoDWGsZxhPP5DFrrD6Z57xPLvPc3y7IYIwEAKaVoGIYvWQePCQAUQqD0\n5Pa3bAJPT093iEhfmSkLbOiX6dl3NGttYi/R3ye3v0XPvssYH87ABWi3nJrfYe/v7+nItIO20bLY\nXKNnMUbSWhMAkDFmURfFGMk5l/oopch7v5hjGAby3qd+Wmtyzm3e/UII6V5rLcUYP6XJMcbF/F3X\nUU7PiAig67oEmNZ6MZn3Pus8IqYCkj8DQAKOnei6LoEUQkjz8LW2bUlrTSGEdI192lI2NE1Dxhga\nhoGGYUj3bQ0+l1rW2jQXk6Ft24SNc+4DtFp9xizMOeC9n7wP5YhYa8k5N5lENgY3hEDee7LWZvtx\n1Gs1Y9d1i0DzWpgppYaIZIwpzjHPwBDCB2h8Y26inFPSOZkGvEgGruSsTFVjTLEfB6HWR2s9kYS+\n74truWR8+cJcMj5Ffg4C35R7u973fTHCa7oo+9VST2pU7ve+7yc6M19kDTCZdrXzaU7PFkyTi2V6\n5hY2DMNkMnnMaNu26ARrzlraSXBLf4mY+yDvKUmDXFcOjJIP8/GgaZps5L33VeqWIldjD28EOVbP\nWbSFCZeMLfvV/qMyP29OQCOaii4ipl1j69bNNC7pnwzElvTZ2k82zpg1H9jXtfXViJA+NE0zqbk+\nU+tsTbk1neLGOltLM9lk2tfkQY69FpCSnk1Au7RJGtd2LKkltYXJulGmJiIWx5cSI3U5xrgI/mf1\nTBKBfbgaNEnj2q4pwaixmHfA+aK890Uml5gpK3t5bY3tpdKlbVtyzl0P2lfrGQMwB6h0OigxPcaY\nZRMHpbbJyYpCzslBuBq0r9azHADe+6K+SVZIphtjFrse0Yf+ldLTOUdS93jMYRjSPVcBJqNcKw2k\nnuUWIhszl3WPz5Zb2BljJEQka201iCwpzrkEChfsXIZwkPnsLINwFWh8UF9jDzthjFk9SCMiee9J\nKVV8KpJjj9zt1nZQDji/teI1zDce6Ycc8w9Oy5+aRPHxHwAAAABJRU5ErkJggg==\n\" transform=\"translate(468, 306)\"/>\n</g>\n<polyline clip-path=\"url(#clip5100)\" style=\"stroke:#000000; stroke-width:8; stroke-opacity:1; fill:none\" stroke-dasharray=\"32, 16, 4, 16\" points=\"\n  299.613,386.635 443.613,386.635 \n  \"/>\n<g clip-path=\"url(#clip5100)\">\n<image width=\"88\" height=\"47\" xlink:href=\"data:image/png;base64,\niVBORw0KGgoAAAANSUhEUgAAAFgAAAAvCAYAAABnsg1NAAAEe0lEQVR4nO1b7W3rOgxlizeAkxGU\nDYSOoBE8g7uBZ8gI6QpuJ3AzgpoJhIwgZwO+H+9SoBPrw5btvhuYAAEnURTyiDyiaOcFEYFL13Vo\nrYXb7QbX6xWstQAA8P7+/gKbjJYXDvDhcMDr9To4EBE3gCfIP/xFXddwvV7hcrnA+Xx270spVzfs\naQQRB7UsSwQABACs6xp94zYN66sP+Mvl4q6VUiss9XNKj4NJuq7D/X7vXm/8O10GI3jj3/kkCvBG\nD3myAbywPHDwxr/zykMEb/w7rwQB3ughXzaAF5YeB9/zr7UWdrvdxsEZ0ovge/7dwM0XL8AbPcwj\nXoDf3t5WN+Yphbo+1lrXPQMAtNYmd9CqqkKlFAohsCgKBABsmmbWDpxSCouiwLZtV+3s5frmIphH\nrxBiFP9KKUFKCXQnhN6bSz4+PvB8PsPtdoOvr6/Z5k2RbN/4SsGf6K2qalKUKKUQALAoilmjTGvt\n5jXGrBrBub65CyGEA3hqelMKlWU5OwhjKGsJnerbK8B/9S+/Fzelgvj5+UFKoSUqkN8sGXN8ewXI\n41+SZy7xcnx7AHgqODRHURRwOBye6oCS49tsAGuts77/f5Ys33LqX1La5YFtkE3TINWuAIBSSjwe\nj8lzn04npI1XKYVa69F2GWOwqio3jxCiZ0PKnLm+QdM0bgIhxMOgqqqipdHxeHRzaK1RKYVKKXco\nsNYiPQaglIo6Vdc1SinRGIPGGFcejVn8uq6d8wSk1hqllEiHB0h4JCHXt2D9S9Edc4yMpUU6nU4P\n4wkoMtQ3V9M0Dwt9H0ExJXt8JRVFHgBEsyrXN5BSeuvfIWenGsypaMhIUiFE7zjctu2o+pwCJmQ3\nD6oYTeT61pvg/sfKsoymEOcoKaV37BCX3Wvbtg8nJf6EUQxcTnehReQAL+1bL4I5FdCqjOVf37jT\n6eTG+eY0xjw0c+g7KScofhoN0RqNC4E2l29uM7j/sKqqqAGI6Wd0isQxZ3lueCyVOZWENlKezrHs\nnMO33opWVYXWWqSVSyljiGJiDaIpZ3nKrpR9gKd9iB74QsRan3P45i7qukaeOmNrxJBTnBtT+7l8\nZ06pn/luH7KdZ+waviVFkk85R4W42pdCbdt6v8eB4HyqtR4EkO8lIZtp3Bj+zfEtC+BUjvLV2UVR\neKPNl3ZCiMEqJIXjl+DfmG9ZAKfwKuc8DmaoxvaVPVprr8MUcSFAOE/Hauq5fJsMbipH8UrgPhJ9\nfMwN5/QgpQz+FoEylNIc3FgZN6dvkwHmk4eM5WlJvYWUxg+BpbVGay0qpaK7OS0M9TEILOof8KbP\nWr5NBphOXSn/36AmCzkXigpSYwxyHkztxBljsCzLXkVEdODjyyV9mwzw36YpR/Ul1PsnmGeTpmnc\n9Zo3BZ4G4K7rMPQ5PU8x9Z7jVPnrAe66Dne7He73e/j8/BwE+fv72901r+t6Vft+nRtzlZ+4hjZC\nYwym9hSW0F8HaC6AhRC9+pc3rSDh5LYBHAGZ9yLgT2mnlMLj8TjpRu5c+i+LBPtcjWJKxAAAAABJ\nRU5ErkJggg==\n\" transform=\"translate(468, 363)\"/>\n</g>\n</svg>\n"
     },
     "execution_count": 10,
     "metadata": {},
     "output_type": "execute_result"
    }
   ],
   "source": [
    "main(indE = 3)"
   ]
  },
  {
   "cell_type": "code",
   "execution_count": 11,
   "metadata": {
    "ExecuteTime": {
     "end_time": "2019-09-25T22:16:41.519000+09:00",
     "start_time": "2019-09-25T13:01:51.209Z"
    }
   },
   "outputs": [
    {
     "data": {
      "image/svg+xml": "<?xml version=\"1.0\" encoding=\"utf-8\"?>\n<svg xmlns=\"http://www.w3.org/2000/svg\" xmlns:xlink=\"http://www.w3.org/1999/xlink\" width=\"600\" height=\"400\" viewBox=\"0 0 2400 1600\">\n<defs>\n  <clipPath id=\"clip5500\">\n    <rect x=\"0\" y=\"0\" width=\"2400\" height=\"1600\"/>\n  </clipPath>\n</defs>\n<polygon clip-path=\"url(#clip5500)\" points=\"\n0,1600 2400,1600 2400,0 0,0 \n  \" fill=\"#ffffff\" fill-rule=\"evenodd\" fill-opacity=\"1\"/>\n<defs>\n  <clipPath id=\"clip5501\">\n    <rect x=\"480\" y=\"0\" width=\"1681\" height=\"1600\"/>\n  </clipPath>\n</defs>\n<polygon clip-path=\"url(#clip5500)\" points=\"\n203.613,1425.62 2352.76,1425.62 2352.76,121.675 203.613,121.675 \n  \" fill=\"#ffffff\" fill-rule=\"evenodd\" fill-opacity=\"1\"/>\n<defs>\n  <clipPath id=\"clip5502\">\n    <rect x=\"203\" y=\"121\" width=\"2150\" height=\"1305\"/>\n  </clipPath>\n</defs>\n<polyline clip-path=\"url(#clip5502)\" style=\"stroke:#000000; stroke-width:2; stroke-opacity:0.1; fill:none\" points=\"\n  368.931,1425.62 368.931,121.675 \n  \"/>\n<polyline clip-path=\"url(#clip5502)\" style=\"stroke:#000000; stroke-width:2; stroke-opacity:0.1; fill:none\" points=\"\n  699.569,1425.62 699.569,121.675 \n  \"/>\n<polyline clip-path=\"url(#clip5502)\" style=\"stroke:#000000; stroke-width:2; stroke-opacity:0.1; fill:none\" points=\"\n  1030.21,1425.62 1030.21,121.675 \n  \"/>\n<polyline clip-path=\"url(#clip5502)\" style=\"stroke:#000000; stroke-width:2; stroke-opacity:0.1; fill:none\" points=\"\n  1360.84,1425.62 1360.84,121.675 \n  \"/>\n<polyline clip-path=\"url(#clip5502)\" style=\"stroke:#000000; stroke-width:2; stroke-opacity:0.1; fill:none\" points=\"\n  1691.48,1425.62 1691.48,121.675 \n  \"/>\n<polyline clip-path=\"url(#clip5502)\" style=\"stroke:#000000; stroke-width:2; stroke-opacity:0.1; fill:none\" points=\"\n  2022.12,1425.62 2022.12,121.675 \n  \"/>\n<polyline clip-path=\"url(#clip5502)\" style=\"stroke:#000000; stroke-width:2; stroke-opacity:0.1; fill:none\" points=\"\n  2352.76,1425.62 2352.76,121.675 \n  \"/>\n<polyline clip-path=\"url(#clip5502)\" style=\"stroke:#000000; stroke-width:2; stroke-opacity:0.1; fill:none\" points=\"\n  203.613,1325.32 2352.76,1325.32 \n  \"/>\n<polyline clip-path=\"url(#clip5502)\" style=\"stroke:#000000; stroke-width:2; stroke-opacity:0.1; fill:none\" points=\"\n  203.613,1124.71 2352.76,1124.71 \n  \"/>\n<polyline clip-path=\"url(#clip5502)\" style=\"stroke:#000000; stroke-width:2; stroke-opacity:0.1; fill:none\" points=\"\n  203.613,924.102 2352.76,924.102 \n  \"/>\n<polyline clip-path=\"url(#clip5502)\" style=\"stroke:#000000; stroke-width:2; stroke-opacity:0.1; fill:none\" points=\"\n  203.613,723.495 2352.76,723.495 \n  \"/>\n<polyline clip-path=\"url(#clip5502)\" style=\"stroke:#000000; stroke-width:2; stroke-opacity:0.1; fill:none\" points=\"\n  203.613,522.889 2352.76,522.889 \n  \"/>\n<polyline clip-path=\"url(#clip5502)\" style=\"stroke:#000000; stroke-width:2; stroke-opacity:0.1; fill:none\" points=\"\n  203.613,322.282 2352.76,322.282 \n  \"/>\n<polyline clip-path=\"url(#clip5502)\" style=\"stroke:#000000; stroke-width:2; stroke-opacity:0.1; fill:none\" points=\"\n  203.613,121.675 2352.76,121.675 \n  \"/>\n<polyline clip-path=\"url(#clip5500)\" style=\"stroke:#000000; stroke-width:4; stroke-opacity:1; fill:none\" points=\"\n  203.613,1425.62 2352.76,1425.62 \n  \"/>\n<polyline clip-path=\"url(#clip5500)\" style=\"stroke:#000000; stroke-width:4; stroke-opacity:1; fill:none\" points=\"\n  203.613,1425.62 203.613,121.675 \n  \"/>\n<polyline clip-path=\"url(#clip5500)\" style=\"stroke:#000000; stroke-width:4; stroke-opacity:1; fill:none\" points=\"\n  368.931,1425.62 368.931,1406.06 \n  \"/>\n<polyline clip-path=\"url(#clip5500)\" style=\"stroke:#000000; stroke-width:4; stroke-opacity:1; fill:none\" points=\"\n  699.569,1425.62 699.569,1406.06 \n  \"/>\n<polyline clip-path=\"url(#clip5500)\" style=\"stroke:#000000; stroke-width:4; stroke-opacity:1; fill:none\" points=\"\n  1030.21,1425.62 1030.21,1406.06 \n  \"/>\n<polyline clip-path=\"url(#clip5500)\" style=\"stroke:#000000; stroke-width:4; stroke-opacity:1; fill:none\" points=\"\n  1360.84,1425.62 1360.84,1406.06 \n  \"/>\n<polyline clip-path=\"url(#clip5500)\" style=\"stroke:#000000; stroke-width:4; stroke-opacity:1; fill:none\" points=\"\n  1691.48,1425.62 1691.48,1406.06 \n  \"/>\n<polyline clip-path=\"url(#clip5500)\" style=\"stroke:#000000; stroke-width:4; stroke-opacity:1; fill:none\" points=\"\n  2022.12,1425.62 2022.12,1406.06 \n  \"/>\n<polyline clip-path=\"url(#clip5500)\" style=\"stroke:#000000; stroke-width:4; stroke-opacity:1; fill:none\" points=\"\n  2352.76,1425.62 2352.76,1406.06 \n  \"/>\n<polyline clip-path=\"url(#clip5500)\" style=\"stroke:#000000; stroke-width:4; stroke-opacity:1; fill:none\" points=\"\n  203.613,1325.32 235.85,1325.32 \n  \"/>\n<polyline clip-path=\"url(#clip5500)\" style=\"stroke:#000000; stroke-width:4; stroke-opacity:1; fill:none\" points=\"\n  203.613,1124.71 235.85,1124.71 \n  \"/>\n<polyline clip-path=\"url(#clip5500)\" style=\"stroke:#000000; stroke-width:4; stroke-opacity:1; fill:none\" points=\"\n  203.613,924.102 235.85,924.102 \n  \"/>\n<polyline clip-path=\"url(#clip5500)\" style=\"stroke:#000000; stroke-width:4; stroke-opacity:1; fill:none\" points=\"\n  203.613,723.495 235.85,723.495 \n  \"/>\n<polyline clip-path=\"url(#clip5500)\" style=\"stroke:#000000; stroke-width:4; stroke-opacity:1; fill:none\" points=\"\n  203.613,522.889 235.85,522.889 \n  \"/>\n<polyline clip-path=\"url(#clip5500)\" style=\"stroke:#000000; stroke-width:4; stroke-opacity:1; fill:none\" points=\"\n  203.613,322.282 235.85,322.282 \n  \"/>\n<polyline clip-path=\"url(#clip5500)\" style=\"stroke:#000000; stroke-width:4; stroke-opacity:1; fill:none\" points=\"\n  203.613,121.675 235.85,121.675 \n  \"/>\n<g clip-path=\"url(#clip5500)\">\n<text style=\"fill:#000000; fill-opacity:1; font-family:Arial,Helvetica Neue,Helvetica,sans-serif; font-size:48px; text-anchor:middle;\" transform=\"rotate(0, 368.931, 1479.62)\" x=\"368.931\" y=\"1479.62\">-2</text>\n</g>\n<g clip-path=\"url(#clip5500)\">\n<text style=\"fill:#000000; fill-opacity:1; font-family:Arial,Helvetica Neue,Helvetica,sans-serif; font-size:48px; text-anchor:middle;\" transform=\"rotate(0, 699.569, 1479.62)\" x=\"699.569\" y=\"1479.62\">0</text>\n</g>\n<g clip-path=\"url(#clip5500)\">\n<text style=\"fill:#000000; fill-opacity:1; font-family:Arial,Helvetica Neue,Helvetica,sans-serif; font-size:48px; text-anchor:middle;\" transform=\"rotate(0, 1030.21, 1479.62)\" x=\"1030.21\" y=\"1479.62\">2</text>\n</g>\n<g clip-path=\"url(#clip5500)\">\n<text style=\"fill:#000000; fill-opacity:1; font-family:Arial,Helvetica Neue,Helvetica,sans-serif; font-size:48px; text-anchor:middle;\" transform=\"rotate(0, 1360.84, 1479.62)\" x=\"1360.84\" y=\"1479.62\">4</text>\n</g>\n<g clip-path=\"url(#clip5500)\">\n<text style=\"fill:#000000; fill-opacity:1; font-family:Arial,Helvetica Neue,Helvetica,sans-serif; font-size:48px; text-anchor:middle;\" transform=\"rotate(0, 1691.48, 1479.62)\" x=\"1691.48\" y=\"1479.62\">6</text>\n</g>\n<g clip-path=\"url(#clip5500)\">\n<text style=\"fill:#000000; fill-opacity:1; font-family:Arial,Helvetica Neue,Helvetica,sans-serif; font-size:48px; text-anchor:middle;\" transform=\"rotate(0, 2022.12, 1479.62)\" x=\"2022.12\" y=\"1479.62\">8</text>\n</g>\n<g clip-path=\"url(#clip5500)\">\n<text style=\"fill:#000000; fill-opacity:1; font-family:Arial,Helvetica Neue,Helvetica,sans-serif; font-size:48px; text-anchor:middle;\" transform=\"rotate(0, 2352.76, 1479.62)\" x=\"2352.76\" y=\"1479.62\">10</text>\n</g>\n<g clip-path=\"url(#clip5500)\">\n<text style=\"fill:#000000; fill-opacity:1; font-family:Arial,Helvetica Neue,Helvetica,sans-serif; font-size:48px; text-anchor:end;\" transform=\"rotate(0, 179.613, 1342.82)\" x=\"179.613\" y=\"1342.82\">-2</text>\n</g>\n<g clip-path=\"url(#clip5500)\">\n<text style=\"fill:#000000; fill-opacity:1; font-family:Arial,Helvetica Neue,Helvetica,sans-serif; font-size:48px; text-anchor:end;\" transform=\"rotate(0, 179.613, 1142.21)\" x=\"179.613\" y=\"1142.21\">0</text>\n</g>\n<g clip-path=\"url(#clip5500)\">\n<text style=\"fill:#000000; fill-opacity:1; font-family:Arial,Helvetica Neue,Helvetica,sans-serif; font-size:48px; text-anchor:end;\" transform=\"rotate(0, 179.613, 941.602)\" x=\"179.613\" y=\"941.602\">2</text>\n</g>\n<g clip-path=\"url(#clip5500)\">\n<text style=\"fill:#000000; fill-opacity:1; font-family:Arial,Helvetica Neue,Helvetica,sans-serif; font-size:48px; text-anchor:end;\" transform=\"rotate(0, 179.613, 740.995)\" x=\"179.613\" y=\"740.995\">4</text>\n</g>\n<g clip-path=\"url(#clip5500)\">\n<text style=\"fill:#000000; fill-opacity:1; font-family:Arial,Helvetica Neue,Helvetica,sans-serif; font-size:48px; text-anchor:end;\" transform=\"rotate(0, 179.613, 540.389)\" x=\"179.613\" y=\"540.389\">6</text>\n</g>\n<g clip-path=\"url(#clip5500)\">\n<text style=\"fill:#000000; fill-opacity:1; font-family:Arial,Helvetica Neue,Helvetica,sans-serif; font-size:48px; text-anchor:end;\" transform=\"rotate(0, 179.613, 339.782)\" x=\"179.613\" y=\"339.782\">8</text>\n</g>\n<g clip-path=\"url(#clip5500)\">\n<text style=\"fill:#000000; fill-opacity:1; font-family:Arial,Helvetica Neue,Helvetica,sans-serif; font-size:48px; text-anchor:end;\" transform=\"rotate(0, 179.613, 139.175)\" x=\"179.613\" y=\"139.175\">10</text>\n</g>\n<g clip-path=\"url(#clip5500)\">\n<text style=\"fill:#000000; fill-opacity:1; font-family:Arial,Helvetica Neue,Helvetica,sans-serif; font-size:84px; text-anchor:middle;\" transform=\"rotate(0, 1278.18, 73.2)\" x=\"1278.18\" y=\"73.2\">Policy function</text>\n</g>\n<g clip-path=\"url(#clip5500)\">\n<text style=\"fill:#000000; fill-opacity:1; font-family:Arial,Helvetica Neue,Helvetica,sans-serif; font-size:66px; text-anchor:middle;\" transform=\"rotate(0, 1278.18, 1559.48)\" x=\"1278.18\" y=\"1559.48\">a</text>\n</g>\n<g clip-path=\"url(#clip5500)\">\n<image width=\"69\" height=\"299\" xlink:href=\"data:image/png;base64,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\nxz3fQxhLWAAAAABJRU5ErkJggg==\n\" transform=\"translate(30, 624)\"/>\n</g>\n<polyline clip-path=\"url(#clip5502)\" style=\"stroke:#0000ff; stroke-width:8; stroke-opacity:1; fill:none\" points=\"\n  203.613,1425.62 229.132,1425.62 254.651,1411.75 280.17,1407.13 305.689,1393.26 331.208,1379.39 356.727,1370.14 382.246,1360.89 407.765,1347.02 433.284,1333.15 \n  458.803,1319.29 484.322,1305.42 509.841,1291.55 535.36,1277.68 560.879,1263.81 586.398,1249.94 611.917,1236.07 637.436,1222.2 662.955,1208.33 688.474,1194.46 \n  713.993,1180.59 739.512,1162.1 765.031,1148.23 790.55,1134.36 816.068,1120.49 841.587,1106.62 867.106,1092.75 892.625,1078.88 918.144,1060.39 943.663,1046.52 \n  969.182,1032.65 994.701,1018.78 1020.22,1004.91 1045.74,986.415 1071.26,972.545 1096.78,958.675 1122.3,944.806 1147.82,930.936 1173.33,912.443 1198.85,898.574 \n  1224.37,884.704 1249.89,870.835 1275.41,852.342 1300.93,838.472 1326.45,824.603 1351.97,810.733 1377.49,792.24 1403.01,778.371 1428.52,764.501 1454.04,750.631 \n  1479.56,732.139 1505.08,718.269 1530.6,704.399 1556.12,685.907 1581.64,672.037 1607.16,658.167 1632.68,644.298 1658.2,625.805 1683.71,611.935 1709.23,598.066 \n  1734.75,584.196 1760.27,565.703 1785.79,551.834 1811.31,537.964 1836.83,519.471 1862.35,505.602 1887.87,491.732 1913.39,477.863 1938.9,459.37 1964.42,445.5 \n  1989.94,431.631 2015.46,413.138 2040.98,399.268 2066.5,385.399 2092.02,371.529 2117.54,353.036 2143.06,339.167 2168.58,325.297 2194.09,306.804 2219.61,292.935 \n  2245.13,279.065 2270.65,260.572 2296.17,246.703 2321.69,232.833 2347.21,218.963 2372.73,200.471 2398.25,186.601 2423.77,172.731 2449.28,154.239 2474.8,140.369 \n  2500.32,126.499 2525.84,108.007 2551.36,94.1369 2576.88,80.2673 2602.4,61.7745 2627.92,47.9049 2653.44,34.0353 2678.96,15.5425 2704.47,1.67294 2729.99,-12.1967 \n  2755.51,-26.0663 2781.03,-44.5591 2806.55,-58.4287 2832.07,-72.2983 2857.59,-90.7911 2883.11,-104.661 2908.63,-118.53 2934.15,-137.023 2959.66,-150.893 2985.18,-164.762 \n  3010.7,-183.255 3036.22,-197.125 3061.74,-210.994 3087.26,-224.864 3112.78,-243.357 3138.3,-257.226 3163.82,-271.096 3189.34,-289.589 3214.85,-303.458 3240.37,-317.328 \n  3265.89,-335.821 3291.41,-349.69 3316.93,-363.56 3342.45,-382.053 3367.97,-395.922 3393.49,-409.792 3419.01,-428.285 3444.53,-442.154 3470.04,-456.024 3495.56,-469.893 \n  3521.08,-488.386 3546.6,-502.256 3572.12,-516.125 3597.64,-534.618 3623.16,-548.488 3648.68,-562.357 3674.2,-580.85 3699.72,-594.72 3725.23,-608.589 3750.75,-622.459 \n  3776.27,-640.952 3801.79,-654.822 3827.31,-668.691 3852.83,-687.184 3878.35,-701.054 3903.87,-714.923 3929.39,-728.793 3954.91,-747.286 3980.42,-761.155 4005.94,-775.025 \n  \n  \"/>\n<polyline clip-path=\"url(#clip5502)\" style=\"stroke:#ff0000; stroke-width:8; stroke-opacity:1; fill:none\" stroke-dasharray=\"32, 20\" points=\"\n  203.613,1397.88 229.132,1384.01 254.651,1374.76 280.17,1360.89 305.689,1347.02 331.208,1333.15 356.727,1319.29 382.246,1305.42 407.765,1291.55 433.284,1277.68 \n  458.803,1263.81 484.322,1249.94 509.841,1231.44 535.36,1217.57 560.879,1203.71 586.398,1189.84 611.917,1175.97 637.436,1162.1 662.955,1148.23 688.474,1129.73 \n  713.993,1115.86 739.512,1101.99 765.031,1088.12 790.55,1069.63 816.068,1055.76 841.587,1041.89 867.106,1028.02 892.625,1014.15 918.144,995.661 943.663,981.791 \n  969.182,967.922 994.701,954.052 1020.22,935.559 1045.74,921.69 1071.26,907.82 1096.78,893.951 1122.3,875.458 1147.82,861.588 1173.33,847.719 1198.85,833.849 \n  1224.37,815.356 1249.89,801.487 1275.41,787.617 1300.93,773.747 1326.45,755.255 1351.97,741.385 1377.49,727.515 1403.01,709.023 1428.52,695.153 1454.04,681.283 \n  1479.56,667.414 1505.08,648.921 1530.6,635.051 1556.12,621.182 1581.64,602.689 1607.16,588.819 1632.68,574.95 1658.2,561.08 1683.71,542.587 1709.23,528.718 \n  1734.75,514.848 1760.27,496.355 1785.79,482.486 1811.31,468.616 1836.83,450.123 1862.35,436.254 1887.87,422.384 1913.39,408.515 1938.9,390.022 1964.42,376.152 \n  1989.94,362.283 2015.46,343.79 2040.98,329.92 2066.5,316.051 2092.02,297.558 2117.54,283.688 2143.06,269.819 2168.58,255.949 2194.09,237.456 2219.61,223.587 \n  2245.13,209.717 2270.65,191.224 2296.17,177.355 2321.69,163.485 2347.21,144.992 2372.73,131.123 2398.25,117.253 2423.77,103.383 2449.28,84.8905 2474.8,71.0209 \n  2500.32,57.1513 2525.84,38.6585 2551.36,24.7889 2576.88,10.9193 2602.4,-7.57346 2627.92,-21.4431 2653.44,-35.3127 2678.96,-53.8055 2704.47,-67.6751 2729.99,-81.5447 \n  2755.51,-95.4143 2781.03,-113.907 2806.55,-127.777 2832.07,-141.646 2857.59,-160.139 2883.11,-174.009 2908.63,-187.878 2934.15,-206.371 2959.66,-220.241 2985.18,-234.11 \n  3010.7,-252.603 3036.22,-266.473 3061.74,-280.342 3087.26,-294.212 3112.78,-312.705 3138.3,-326.574 3163.82,-340.444 3189.34,-358.937 3214.85,-372.806 3240.37,-386.676 \n  3265.89,-405.169 3291.41,-419.038 3316.93,-432.908 3342.45,-451.401 3367.97,-465.27 3393.49,-479.14 3419.01,-493.009 3444.53,-511.502 3470.04,-525.372 3495.56,-539.241 \n  3521.08,-557.734 3546.6,-571.604 3572.12,-585.473 3597.64,-599.343 3623.16,-617.836 3648.68,-631.705 3674.2,-645.575 3699.72,-664.068 3725.23,-677.938 3750.75,-691.807 \n  3776.27,-705.677 3801.79,-719.546 3827.31,-738.039 3852.83,-751.909 3878.35,-765.778 3903.87,-779.648 3929.39,-793.518 3954.91,-812.01 3980.42,-825.88 4005.94,-839.75 \n  \n  \"/>\n<polyline clip-path=\"url(#clip5502)\" style=\"stroke:#000000; stroke-width:8; stroke-opacity:1; fill:none\" stroke-dasharray=\"32, 16, 4, 16\" points=\"\n  203.613,1226.82 229.132,1212.95 254.651,1194.46 280.17,1180.59 305.689,1166.72 331.208,1152.85 356.727,1138.98 382.246,1120.49 407.765,1106.62 433.284,1092.75 \n  458.803,1078.88 484.322,1060.39 509.841,1046.52 535.36,1032.65 560.879,1018.78 586.398,1000.28 611.917,986.415 637.436,972.545 662.955,958.675 688.474,940.183 \n  713.993,926.313 739.512,912.443 765.031,898.574 790.55,880.081 816.068,866.211 841.587,852.342 867.106,833.849 892.625,819.979 918.144,806.11 943.663,792.24 \n  969.182,773.747 994.701,759.878 1020.22,746.008 1045.74,727.515 1071.26,713.646 1096.78,699.776 1122.3,681.283 1147.82,667.414 1173.33,653.544 1198.85,639.675 \n  1224.37,621.182 1249.89,607.312 1275.41,593.443 1300.93,574.95 1326.45,561.08 1351.97,547.211 1377.49,528.718 1403.01,514.848 1428.52,500.979 1454.04,487.109 \n  1479.56,468.616 1505.08,454.747 1530.6,440.877 1556.12,422.384 1581.64,408.515 1607.16,394.645 1632.68,376.152 1658.2,362.283 1683.71,348.413 1709.23,334.543 \n  1734.75,316.051 1760.27,302.181 1785.79,288.311 1811.31,269.819 1836.83,255.949 1862.35,242.079 1887.87,223.587 1913.39,209.717 1938.9,195.847 1964.42,177.355 \n  1989.94,163.485 2015.46,149.615 2040.98,135.746 2066.5,117.253 2092.02,103.383 2117.54,89.5137 2143.06,71.0209 2168.58,57.1513 2194.09,43.2817 2219.61,24.7889 \n  2245.13,10.9193 2270.65,-2.95026 2296.17,-21.4431 2321.69,-35.3127 2347.21,-49.1823 2372.73,-63.0519 2398.25,-81.5447 2423.77,-95.4143 2449.28,-109.284 2474.8,-127.777 \n  2500.32,-141.646 2525.84,-155.516 2551.36,-174.009 2576.88,-187.878 2602.4,-201.748 2627.92,-215.617 2653.44,-234.11 2678.96,-247.98 2704.47,-261.849 2729.99,-280.342 \n  2755.51,-294.212 2781.03,-308.081 2806.55,-326.574 2832.07,-340.444 2857.59,-354.313 2883.11,-368.183 2908.63,-386.676 2934.15,-400.545 2959.66,-414.415 2985.18,-432.908 \n  3010.7,-446.777 3036.22,-460.647 3061.74,-474.517 3087.26,-493.009 3112.78,-506.879 3138.3,-520.749 3163.82,-534.618 3189.34,-548.488 3214.85,-566.981 3240.37,-580.85 \n  3265.89,-594.72 3291.41,-608.589 3316.93,-622.459 3342.45,-640.952 3367.97,-654.822 3393.49,-668.691 3419.01,-682.561 3444.53,-696.43 3470.04,-710.3 3495.56,-724.17 \n  3521.08,-738.039 3546.6,-751.909 3572.12,-765.778 3597.64,-779.648 3623.16,-793.518 3648.68,-802.764 3674.2,-816.634 3699.72,-830.503 3725.23,-844.373 3750.75,-853.619 \n  3776.27,-867.489 3801.79,-876.735 3827.31,-881.358 3852.83,-881.358 3878.35,-881.358 3903.87,-881.358 3929.39,-881.358 3954.91,-881.358 3980.42,-881.358 4005.94,-881.358 \n  \n  \"/>\n<polygon clip-path=\"url(#clip5500)\" points=\"\n275.613,447.115 603.613,447.115 603.613,205.195 275.613,205.195 \n  \" fill=\"#ffffff\" fill-rule=\"evenodd\" fill-opacity=\"1\"/>\n<polyline clip-path=\"url(#clip5500)\" style=\"stroke:#000000; stroke-width:4; stroke-opacity:1; fill:none\" points=\"\n  275.613,447.115 603.613,447.115 603.613,205.195 275.613,205.195 275.613,447.115 \n  \"/>\n<polyline clip-path=\"url(#clip5500)\" style=\"stroke:#0000ff; stroke-width:8; stroke-opacity:1; fill:none\" points=\"\n  299.613,265.675 443.613,265.675 \n  \"/>\n<g clip-path=\"url(#clip5500)\">\n<image width=\"69\" height=\"40\" xlink:href=\"data:image/png;base64,\niVBORw0KGgoAAAANSUhEUgAAAEUAAAAoCAYAAACo5zetAAAD1klEQVRoge1a7XHjIBB9zlwBxCWg\nDkhKIB1Qg9IBkxJUgtKCStCkBNkVEJWA08Hej7sl2AIk60fuHIUZZvwBLDzevt2VvSMixO10OpH3\nHh8fHxjHEd57AMDz8/MOG2m7GJSqqmgcx+RAItoMKL/iN9ZajOOI4/GIt7e38LlS6ss39k8bESW7\nMYYAEACy1lJu3HfsdzmwjsdjeK21/oLr+X/amaZwO51OtN/vw/st6QmANFM2rSdYAMrWXAf4ASXZ\nJpqydT0BEkzZup4AM6Bs0XWAH1CS7UxTLvXEe4/7+/tta8qlnmwREKAAylZdByiA8vj4+OWb+W8a\nV4be+1AVAyDv/aLK2FpLWmuSUpIQggBQ3/c3XVUHpsQskVIu1pP9fg8pJfhpHc+/6cbo1HUdWFLX\n9dU3rbUmACSEuGmWENEnKFLKAErXdVcfjOcaY24elDvgT34SP5u9NvIcDoeQ7HyHqHUHrNcTbt8t\nlE9AWXMoni+EQFVVt5/w/ehJ4jxr8xPuwzCEuW3bXg1K27aktQ45jpSSjDE0DMPsWm3bEl+oUqo4\nZxgGEkIkI6tzjqSUpJQi7z2h67pwKCnlZEJd1+ScyxprmibML4277F3XkRCChBDUNE24DOcccXgv\n/bRirSWlFDnnKL7Y3KXymqkzxj/nNE1Tzk/YWIk9JWO5zjallNm1lVJZ9nVdN7E3x1ZmYoopbdtS\nLAHBeEpPUsYvew7QOUCEEEWw441efielPCslYhdOlRhLXJzZYq39RBDAxCeNMUUKx8aWCHTsqnPj\n+75Pju37fpI1W2uzABItc3HnXLB1xpT45th1lurJEoGOxfQaAOPbdc5N2MDr5qIfs2CuBGFi3MV5\nCf/tAgBeXl6glCrmHZyfLEn4Xl9fiQtGY0xpKAAg9++Hqqp2T09PwdbhcAjr1nVd3GcpB3t/fycA\neHh42AUfxV9d8N4TM2AuLOIKPWFBXrJufLtz42ONKrkFZlIGTg2IooLQWrs45tMKPYkTxLmxMeBz\nlJ9zndgNS2dSSgXQZjeX6zk96fs+qS+8+SWPFuKDlIQ+ZkHTNMlxsQjndO8y9VgNSi4/QUacebxS\nahYUFv85QZ4LxUTLRLZpmjMJWA1KiralvCZm1lIGzmXIMVNyoLDb5vblvSchxJmt1aCwsZjexpii\nmPGcnAZxwiaEWCTGuX3El8Sg5dxHaz2ZuxoUPgC7AxdnczfLD7hj8IZhIKa5MeaqojSXrXJt5ZwL\na8cBZBgGUkolBXo1KDEQAEhrvbggbJpmUhnXdb2YHSmw4+gphJjsp+u6M5ta6yyrfwM6BEhkpLIs\n8wAAAABJRU5ErkJggg==\n\" transform=\"translate(468, 246)\"/>\n</g>\n<polyline clip-path=\"url(#clip5500)\" style=\"stroke:#ff0000; stroke-width:8; stroke-opacity:1; fill:none\" stroke-dasharray=\"32, 20\" points=\"\n  299.613,326.155 443.613,326.155 \n  \"/>\n<g clip-path=\"url(#clip5500)\">\n<image width=\"77\" height=\"40\" xlink:href=\"data:image/png;base64,\niVBORw0KGgoAAAANSUhEUgAAAE0AAAAoCAYAAAC7MHdZAAAEMElEQVRoge1a4W3zOAxlDzeA2hHU\nDdSOoBE0g7qBZ/AI6gpGJzAygpoJDI/AZAN+fz6qtC3JbtIWl54JCEgcWaIeH58oO3dEBNJOpxMh\nIpzPZxjHERARAABeXl7uYDcAALiToD0+PtI4jtmORLSD9tf+lV+apoFxHOF4PMLhcEjXjTE/7th/\n2ogo25xzBAAEANQ0DZX6/R/bPyUwj8dj+myt/YHw3Y5NNI3tdDrRw8ND+r7r2dSyTNv1rG6roO2p\nubQdtAtsoWm7nq3bgmm7nq1bFbQ9NfO2g3aBTTRtrmeICPf397umzWzCtLme7YDlrQjanpplK4L2\n/Pz8487cjPHJHRHTUw0AIES82Scb1lpSSlHf91etIcZI1loyxpDWmpRSZIyhxDTJMq31zerZ6+sr\nHQ4HOJ/P8Pb2dtVYSikwxoDWGsZxhPP5DFrrD6Z57xPLvPc3y7IYIwEAKaVoGIYvWQePCQAUQqD0\n5Pa3bAJPT093iEhfmSkLbOiX6dl3NGttYi/R3ye3v0XPvssYH87ABWi3nJrfYe/v7+nItIO20bLY\nXKNnMUbSWhMAkDFmURfFGMk5l/oopch7v5hjGAby3qd+Wmtyzm3e/UII6V5rLcUYP6XJMcbF/F3X\nUU7PiAig67oEmNZ6MZn3Pus8IqYCkj8DQAKOnei6LoEUQkjz8LW2bUlrTSGEdI192lI2NE1Dxhga\nhoGGYUj3bQ0+l1rW2jQXk6Ft24SNc+4DtFp9xizMOeC9n7wP5YhYa8k5N5lENgY3hEDee7LWZvtx\n1Gs1Y9d1i0DzWpgppYaIZIwpzjHPwBDCB2h8Y26inFPSOZkGvEgGruSsTFVjTLEfB6HWR2s9kYS+\n74truWR8+cJcMj5Ffg4C35R7u973fTHCa7oo+9VST2pU7ve+7yc6M19kDTCZdrXzaU7PFkyTi2V6\n5hY2DMNkMnnMaNu26ARrzlraSXBLf4mY+yDvKUmDXFcOjJIP8/GgaZps5L33VeqWIldjD28EOVbP\nWbSFCZeMLfvV/qMyP29OQCOaii4ipl1j69bNNC7pnwzElvTZ2k82zpg1H9jXtfXViJA+NE0zqbk+\nU+tsTbk1neLGOltLM9lk2tfkQY69FpCSnk1Au7RJGtd2LKkltYXJulGmJiIWx5cSI3U5xrgI/mf1\nTBKBfbgaNEnj2q4pwaixmHfA+aK890Uml5gpK3t5bY3tpdKlbVtyzl0P2lfrGQMwB6h0OigxPcaY\nZRMHpbbJyYpCzslBuBq0r9azHADe+6K+SVZIphtjFrse0Yf+ldLTOUdS93jMYRjSPVcBJqNcKw2k\nnuUWIhszl3WPz5Zb2BljJEQka201iCwpzrkEChfsXIZwkPnsLINwFWh8UF9jDzthjFk9SCMiee9J\nKVV8KpJjj9zt1nZQDji/teI1zDce6Ycc8w9Oy5+aRPHxHwAAAABJRU5ErkJggg==\n\" transform=\"translate(468, 306)\"/>\n</g>\n<polyline clip-path=\"url(#clip5500)\" style=\"stroke:#000000; stroke-width:8; stroke-opacity:1; fill:none\" stroke-dasharray=\"32, 16, 4, 16\" points=\"\n  299.613,386.635 443.613,386.635 \n  \"/>\n<g clip-path=\"url(#clip5500)\">\n<image width=\"88\" height=\"47\" xlink:href=\"data:image/png;base64,\niVBORw0KGgoAAAANSUhEUgAAAFgAAAAvCAYAAABnsg1NAAAEe0lEQVR4nO1b7W3rOgxlizeAkxGU\nDYSOoBE8g7uBZ8gI6QpuJ3AzgpoJhIwgZwO+H+9SoBPrw5btvhuYAAEnURTyiDyiaOcFEYFL13Vo\nrYXb7QbX6xWstQAA8P7+/gKbjJYXDvDhcMDr9To4EBE3gCfIP/xFXddwvV7hcrnA+Xx270spVzfs\naQQRB7UsSwQABACs6xp94zYN66sP+Mvl4q6VUiss9XNKj4NJuq7D/X7vXm/8O10GI3jj3/kkCvBG\nD3myAbywPHDwxr/zykMEb/w7rwQB3ughXzaAF5YeB9/zr7UWdrvdxsEZ0ovge/7dwM0XL8AbPcwj\nXoDf3t5WN+Yphbo+1lrXPQMAtNYmd9CqqkKlFAohsCgKBABsmmbWDpxSCouiwLZtV+3s5frmIphH\nrxBiFP9KKUFKCXQnhN6bSz4+PvB8PsPtdoOvr6/Z5k2RbN/4SsGf6K2qalKUKKUQALAoilmjTGvt\n5jXGrBrBub65CyGEA3hqelMKlWU5OwhjKGsJnerbK8B/9S+/Fzelgvj5+UFKoSUqkN8sGXN8ewXI\n41+SZy7xcnx7AHgqODRHURRwOBye6oCS49tsAGuts77/f5Ys33LqX1La5YFtkE3TINWuAIBSSjwe\nj8lzn04npI1XKYVa69F2GWOwqio3jxCiZ0PKnLm+QdM0bgIhxMOgqqqipdHxeHRzaK1RKYVKKXco\nsNYiPQaglIo6Vdc1SinRGIPGGFcejVn8uq6d8wSk1hqllEiHB0h4JCHXt2D9S9Edc4yMpUU6nU4P\n4wkoMtQ3V9M0Dwt9H0ExJXt8JRVFHgBEsyrXN5BSeuvfIWenGsypaMhIUiFE7zjctu2o+pwCJmQ3\nD6oYTeT61pvg/sfKsoymEOcoKaV37BCX3Wvbtg8nJf6EUQxcTnehReQAL+1bL4I5FdCqjOVf37jT\n6eTG+eY0xjw0c+g7KScofhoN0RqNC4E2l29uM7j/sKqqqAGI6Wd0isQxZ3lueCyVOZWENlKezrHs\nnMO33opWVYXWWqSVSyljiGJiDaIpZ3nKrpR9gKd9iB74QsRan3P45i7qukaeOmNrxJBTnBtT+7l8\nZ06pn/luH7KdZ+waviVFkk85R4W42pdCbdt6v8eB4HyqtR4EkO8lIZtp3Bj+zfEtC+BUjvLV2UVR\neKPNl3ZCiMEqJIXjl+DfmG9ZAKfwKuc8DmaoxvaVPVprr8MUcSFAOE/Hauq5fJsMbipH8UrgPhJ9\nfMwN5/QgpQz+FoEylNIc3FgZN6dvkwHmk4eM5WlJvYWUxg+BpbVGay0qpaK7OS0M9TEILOof8KbP\nWr5NBphOXSn/36AmCzkXigpSYwxyHkztxBljsCzLXkVEdODjyyV9mwzw36YpR/Ul1PsnmGeTpmnc\n9Zo3BZ4G4K7rMPQ5PU8x9Z7jVPnrAe66Dne7He73e/j8/BwE+fv72901r+t6Vft+nRtzlZ+4hjZC\nYwym9hSW0F8HaC6AhRC9+pc3rSDh5LYBHAGZ9yLgT2mnlMLj8TjpRu5c+i+LBPtcjWJKxAAAAABJ\nRU5ErkJggg==\n\" transform=\"translate(468, 363)\"/>\n</g>\n</svg>\n"
     },
     "execution_count": 11,
     "metadata": {},
     "output_type": "execute_result"
    }
   ],
   "source": [
    "main(indE = 4)"
   ]
  },
  {
   "cell_type": "code",
   "execution_count": null,
   "metadata": {},
   "outputs": [],
   "source": []
  }
 ],
 "metadata": {
  "kernelspec": {
   "display_name": "Julia 1.2.0",
   "language": "julia",
   "name": "julia-1.2"
  },
  "language_info": {
   "file_extension": ".jl",
   "mimetype": "application/julia",
   "name": "julia",
   "version": "1.2.0"
  },
  "latex_envs": {
   "LaTeX_envs_menu_present": true,
   "autoclose": true,
   "autocomplete": true,
   "bibliofile": "biblio.bib",
   "cite_by": "apalike",
   "current_citInitial": 1,
   "eqLabelWithNumbers": true,
   "eqNumInitial": 1,
   "hotkeys": {
    "equation": "Ctrl-E",
    "itemize": "Ctrl-I"
   },
   "labels_anchors": false,
   "latex_user_defs": false,
   "report_style_numbering": false,
   "user_envs_cfg": false
  },
  "toc": {
   "base_numbering": 1,
   "nav_menu": {},
   "number_sections": true,
   "sideBar": true,
   "skip_h1_title": false,
   "title_cell": "Table of Contents",
   "title_sidebar": "Contents",
   "toc_cell": false,
   "toc_position": {},
   "toc_section_display": true,
   "toc_window_display": false
  }
 },
 "nbformat": 4,
 "nbformat_minor": 2
}
